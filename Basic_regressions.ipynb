{
  "nbformat": 4,
  "nbformat_minor": 0,
  "metadata": {
    "colab": {
      "provenance": [],
      "collapsed_sections": []
    },
    "kernelspec": {
      "name": "python3",
      "display_name": "Python 3"
    },
    "language_info": {
      "name": "python"
    }
  },
  "cells": [
    {
      "cell_type": "code",
      "source": [],
      "metadata": {
        "id": "X6WZv-CyawLR"
      },
      "execution_count": null,
      "outputs": []
    },
    {
      "cell_type": "code",
      "source": [
        "from sklearn import linear_model\n",
        "import pandas as pd\n",
        "import numpy as np\n",
        "from sklearn.impute import SimpleImputer\n",
        "import matplotlib.pyplot as plt\n",
        "from scipy import stats\n",
        "import seaborn as sns\n",
        "import numpy\n",
        "from sklearn.linear_model import LinearRegression\n",
        "from sklearn.preprocessing import FunctionTransformer\n",
        "from sklearn.preprocessing import PolynomialFeatures\n",
        "np.random.seed(123)"
      ],
      "metadata": {
        "id": "dPOqvihg4Jk2"
      },
      "execution_count": null,
      "outputs": []
    },
    {
      "cell_type": "code",
      "source": [
        "# Upload xlsx file to data frame\n",
        "\n",
        "df = pd.read_excel('E Commerce Dataset.xlsx', 'E Comm')\n",
        "data = df\n",
        "df.sample(5)"
      ],
      "metadata": {
        "colab": {
          "base_uri": "https://localhost:8080/",
          "height": 268
        },
        "id": "0j1YHG2t3tM0",
        "outputId": "e63dd589-777a-40d2-eecc-6c1fbbe76482"
      },
      "execution_count": null,
      "outputs": [
        {
          "output_type": "execute_result",
          "data": {
            "text/plain": [
              "      CustomerID  Churn  Tenure PreferredLoginDevice  CityTier  \\\n",
              "1600       51601      0     0.0                Phone         1   \n",
              "925        50926      0    15.0             Computer         1   \n",
              "5360       55361      0    18.0         Mobile Phone         2   \n",
              "726        50727      0    29.0         Mobile Phone         1   \n",
              "4777       54778      0    18.0         Mobile Phone         1   \n",
              "\n",
              "      WarehouseToHome PreferredPaymentMode  Gender  HourSpendOnApp  \\\n",
              "1600              6.0           Debit Card  Female             3.0   \n",
              "925              15.0          Credit Card  Female             3.0   \n",
              "5360              8.0           Debit Card  Female             3.0   \n",
              "726              10.0     Cash on Delivery  Female             3.0   \n",
              "4777             11.0          Credit Card    Male             3.0   \n",
              "\n",
              "      NumberOfDeviceRegistered    PreferedOrderCat  SatisfactionScore  \\\n",
              "1600                         3  Laptop & Accessory                  3   \n",
              "925                          3        Mobile Phone                  1   \n",
              "5360                         4        Mobile Phone                  1   \n",
              "726                          3              Others                  5   \n",
              "4777                         4  Laptop & Accessory                  4   \n",
              "\n",
              "     MaritalStatus  NumberOfAddress  Complain  OrderAmountHikeFromlastYear  \\\n",
              "1600       Married                1         0                         12.0   \n",
              "925         Single                2         0                         13.0   \n",
              "5360       Married                6         1                         19.0   \n",
              "726        Married                5         0                          NaN   \n",
              "4777        Single               11         0                         13.0   \n",
              "\n",
              "      CouponUsed  OrderCount  DaySinceLastOrder  CashbackAmount  \n",
              "1600         1.0         1.0                2.0          148.98  \n",
              "925          4.0         5.0                8.0          136.73  \n",
              "5360         3.0         3.0                3.0          156.95  \n",
              "726          0.0         4.0                2.0          299.43  \n",
              "4777         2.0         3.0                4.0          184.33  "
            ],
            "text/html": [
              "\n",
              "  <div id=\"df-acedc0b9-c452-4f74-ba8f-19ab978912d5\">\n",
              "    <div class=\"colab-df-container\">\n",
              "      <div>\n",
              "<style scoped>\n",
              "    .dataframe tbody tr th:only-of-type {\n",
              "        vertical-align: middle;\n",
              "    }\n",
              "\n",
              "    .dataframe tbody tr th {\n",
              "        vertical-align: top;\n",
              "    }\n",
              "\n",
              "    .dataframe thead th {\n",
              "        text-align: right;\n",
              "    }\n",
              "</style>\n",
              "<table border=\"1\" class=\"dataframe\">\n",
              "  <thead>\n",
              "    <tr style=\"text-align: right;\">\n",
              "      <th></th>\n",
              "      <th>CustomerID</th>\n",
              "      <th>Churn</th>\n",
              "      <th>Tenure</th>\n",
              "      <th>PreferredLoginDevice</th>\n",
              "      <th>CityTier</th>\n",
              "      <th>WarehouseToHome</th>\n",
              "      <th>PreferredPaymentMode</th>\n",
              "      <th>Gender</th>\n",
              "      <th>HourSpendOnApp</th>\n",
              "      <th>NumberOfDeviceRegistered</th>\n",
              "      <th>PreferedOrderCat</th>\n",
              "      <th>SatisfactionScore</th>\n",
              "      <th>MaritalStatus</th>\n",
              "      <th>NumberOfAddress</th>\n",
              "      <th>Complain</th>\n",
              "      <th>OrderAmountHikeFromlastYear</th>\n",
              "      <th>CouponUsed</th>\n",
              "      <th>OrderCount</th>\n",
              "      <th>DaySinceLastOrder</th>\n",
              "      <th>CashbackAmount</th>\n",
              "    </tr>\n",
              "  </thead>\n",
              "  <tbody>\n",
              "    <tr>\n",
              "      <th>1600</th>\n",
              "      <td>51601</td>\n",
              "      <td>0</td>\n",
              "      <td>0.0</td>\n",
              "      <td>Phone</td>\n",
              "      <td>1</td>\n",
              "      <td>6.0</td>\n",
              "      <td>Debit Card</td>\n",
              "      <td>Female</td>\n",
              "      <td>3.0</td>\n",
              "      <td>3</td>\n",
              "      <td>Laptop &amp; Accessory</td>\n",
              "      <td>3</td>\n",
              "      <td>Married</td>\n",
              "      <td>1</td>\n",
              "      <td>0</td>\n",
              "      <td>12.0</td>\n",
              "      <td>1.0</td>\n",
              "      <td>1.0</td>\n",
              "      <td>2.0</td>\n",
              "      <td>148.98</td>\n",
              "    </tr>\n",
              "    <tr>\n",
              "      <th>925</th>\n",
              "      <td>50926</td>\n",
              "      <td>0</td>\n",
              "      <td>15.0</td>\n",
              "      <td>Computer</td>\n",
              "      <td>1</td>\n",
              "      <td>15.0</td>\n",
              "      <td>Credit Card</td>\n",
              "      <td>Female</td>\n",
              "      <td>3.0</td>\n",
              "      <td>3</td>\n",
              "      <td>Mobile Phone</td>\n",
              "      <td>1</td>\n",
              "      <td>Single</td>\n",
              "      <td>2</td>\n",
              "      <td>0</td>\n",
              "      <td>13.0</td>\n",
              "      <td>4.0</td>\n",
              "      <td>5.0</td>\n",
              "      <td>8.0</td>\n",
              "      <td>136.73</td>\n",
              "    </tr>\n",
              "    <tr>\n",
              "      <th>5360</th>\n",
              "      <td>55361</td>\n",
              "      <td>0</td>\n",
              "      <td>18.0</td>\n",
              "      <td>Mobile Phone</td>\n",
              "      <td>2</td>\n",
              "      <td>8.0</td>\n",
              "      <td>Debit Card</td>\n",
              "      <td>Female</td>\n",
              "      <td>3.0</td>\n",
              "      <td>4</td>\n",
              "      <td>Mobile Phone</td>\n",
              "      <td>1</td>\n",
              "      <td>Married</td>\n",
              "      <td>6</td>\n",
              "      <td>1</td>\n",
              "      <td>19.0</td>\n",
              "      <td>3.0</td>\n",
              "      <td>3.0</td>\n",
              "      <td>3.0</td>\n",
              "      <td>156.95</td>\n",
              "    </tr>\n",
              "    <tr>\n",
              "      <th>726</th>\n",
              "      <td>50727</td>\n",
              "      <td>0</td>\n",
              "      <td>29.0</td>\n",
              "      <td>Mobile Phone</td>\n",
              "      <td>1</td>\n",
              "      <td>10.0</td>\n",
              "      <td>Cash on Delivery</td>\n",
              "      <td>Female</td>\n",
              "      <td>3.0</td>\n",
              "      <td>3</td>\n",
              "      <td>Others</td>\n",
              "      <td>5</td>\n",
              "      <td>Married</td>\n",
              "      <td>5</td>\n",
              "      <td>0</td>\n",
              "      <td>NaN</td>\n",
              "      <td>0.0</td>\n",
              "      <td>4.0</td>\n",
              "      <td>2.0</td>\n",
              "      <td>299.43</td>\n",
              "    </tr>\n",
              "    <tr>\n",
              "      <th>4777</th>\n",
              "      <td>54778</td>\n",
              "      <td>0</td>\n",
              "      <td>18.0</td>\n",
              "      <td>Mobile Phone</td>\n",
              "      <td>1</td>\n",
              "      <td>11.0</td>\n",
              "      <td>Credit Card</td>\n",
              "      <td>Male</td>\n",
              "      <td>3.0</td>\n",
              "      <td>4</td>\n",
              "      <td>Laptop &amp; Accessory</td>\n",
              "      <td>4</td>\n",
              "      <td>Single</td>\n",
              "      <td>11</td>\n",
              "      <td>0</td>\n",
              "      <td>13.0</td>\n",
              "      <td>2.0</td>\n",
              "      <td>3.0</td>\n",
              "      <td>4.0</td>\n",
              "      <td>184.33</td>\n",
              "    </tr>\n",
              "  </tbody>\n",
              "</table>\n",
              "</div>\n",
              "      <button class=\"colab-df-convert\" onclick=\"convertToInteractive('df-acedc0b9-c452-4f74-ba8f-19ab978912d5')\"\n",
              "              title=\"Convert this dataframe to an interactive table.\"\n",
              "              style=\"display:none;\">\n",
              "        \n",
              "  <svg xmlns=\"http://www.w3.org/2000/svg\" height=\"24px\"viewBox=\"0 0 24 24\"\n",
              "       width=\"24px\">\n",
              "    <path d=\"M0 0h24v24H0V0z\" fill=\"none\"/>\n",
              "    <path d=\"M18.56 5.44l.94 2.06.94-2.06 2.06-.94-2.06-.94-.94-2.06-.94 2.06-2.06.94zm-11 1L8.5 8.5l.94-2.06 2.06-.94-2.06-.94L8.5 2.5l-.94 2.06-2.06.94zm10 10l.94 2.06.94-2.06 2.06-.94-2.06-.94-.94-2.06-.94 2.06-2.06.94z\"/><path d=\"M17.41 7.96l-1.37-1.37c-.4-.4-.92-.59-1.43-.59-.52 0-1.04.2-1.43.59L10.3 9.45l-7.72 7.72c-.78.78-.78 2.05 0 2.83L4 21.41c.39.39.9.59 1.41.59.51 0 1.02-.2 1.41-.59l7.78-7.78 2.81-2.81c.8-.78.8-2.07 0-2.86zM5.41 20L4 18.59l7.72-7.72 1.47 1.35L5.41 20z\"/>\n",
              "  </svg>\n",
              "      </button>\n",
              "      \n",
              "  <style>\n",
              "    .colab-df-container {\n",
              "      display:flex;\n",
              "      flex-wrap:wrap;\n",
              "      gap: 12px;\n",
              "    }\n",
              "\n",
              "    .colab-df-convert {\n",
              "      background-color: #E8F0FE;\n",
              "      border: none;\n",
              "      border-radius: 50%;\n",
              "      cursor: pointer;\n",
              "      display: none;\n",
              "      fill: #1967D2;\n",
              "      height: 32px;\n",
              "      padding: 0 0 0 0;\n",
              "      width: 32px;\n",
              "    }\n",
              "\n",
              "    .colab-df-convert:hover {\n",
              "      background-color: #E2EBFA;\n",
              "      box-shadow: 0px 1px 2px rgba(60, 64, 67, 0.3), 0px 1px 3px 1px rgba(60, 64, 67, 0.15);\n",
              "      fill: #174EA6;\n",
              "    }\n",
              "\n",
              "    [theme=dark] .colab-df-convert {\n",
              "      background-color: #3B4455;\n",
              "      fill: #D2E3FC;\n",
              "    }\n",
              "\n",
              "    [theme=dark] .colab-df-convert:hover {\n",
              "      background-color: #434B5C;\n",
              "      box-shadow: 0px 1px 3px 1px rgba(0, 0, 0, 0.15);\n",
              "      filter: drop-shadow(0px 1px 2px rgba(0, 0, 0, 0.3));\n",
              "      fill: #FFFFFF;\n",
              "    }\n",
              "  </style>\n",
              "\n",
              "      <script>\n",
              "        const buttonEl =\n",
              "          document.querySelector('#df-acedc0b9-c452-4f74-ba8f-19ab978912d5 button.colab-df-convert');\n",
              "        buttonEl.style.display =\n",
              "          google.colab.kernel.accessAllowed ? 'block' : 'none';\n",
              "\n",
              "        async function convertToInteractive(key) {\n",
              "          const element = document.querySelector('#df-acedc0b9-c452-4f74-ba8f-19ab978912d5');\n",
              "          const dataTable =\n",
              "            await google.colab.kernel.invokeFunction('convertToInteractive',\n",
              "                                                     [key], {});\n",
              "          if (!dataTable) return;\n",
              "\n",
              "          const docLinkHtml = 'Like what you see? Visit the ' +\n",
              "            '<a target=\"_blank\" href=https://colab.research.google.com/notebooks/data_table.ipynb>data table notebook</a>'\n",
              "            + ' to learn more about interactive tables.';\n",
              "          element.innerHTML = '';\n",
              "          dataTable['output_type'] = 'display_data';\n",
              "          await google.colab.output.renderOutput(dataTable, element);\n",
              "          const docLink = document.createElement('div');\n",
              "          docLink.innerHTML = docLinkHtml;\n",
              "          element.appendChild(docLink);\n",
              "        }\n",
              "      </script>\n",
              "    </div>\n",
              "  </div>\n",
              "  "
            ]
          },
          "metadata": {},
          "execution_count": 2
        }
      ]
    },
    {
      "cell_type": "code",
      "source": [
        "# prepare variables, which have missing values\n",
        "\n",
        "cat_features = ['Tenure','WarehouseToHome','OrderAmountHikeFromlastYear','CouponUsed','OrderCount','DaySinceLastOrder']\n",
        "cont_features = ['HourSpendOnApp']"
      ],
      "metadata": {
        "id": "WKfGOI7VBDcJ"
      },
      "execution_count": null,
      "outputs": []
    },
    {
      "cell_type": "code",
      "source": [
        "\n",
        "# replace missing values by median or most frequent (do not use mean because of outliers are present)\n",
        "\n",
        "def imputation (df,\n",
        "                cont_features,\n",
        "                cat_features,\n",
        "                cont_strategy = 'median',\n",
        "                cat_strategy = 'most_frequent'\n",
        "                ):\n",
        "\n",
        "# initialize object imputer\n",
        "\n",
        "  imputerCat = SimpleImputer(missing_values=np.nan, strategy= cat_strategy)\n",
        "  imputerCont = SimpleImputer(missing_values=np.nan, strategy= cont_strategy)\n",
        "\n",
        "# fit to data train\n",
        "\n",
        "  imputerCont.fit(df[cont_features])\n",
        "  imputerCat.fit(df[cat_features])\n",
        "\n",
        "# transfrom to data train\n",
        "\n",
        "  df[cont_features] = imputerCont.transform(df[cont_features])\n",
        "  df[cat_features] = imputerCat.transform(df[cat_features])\n",
        "  \n",
        "  return df"
      ],
      "metadata": {
        "id": "-FweSNRoCMS4"
      },
      "execution_count": null,
      "outputs": []
    },
    {
      "cell_type": "code",
      "source": [
        "df = imputation(df,cont_features, cat_features)"
      ],
      "metadata": {
        "id": "bHfUQnR7FpzR"
      },
      "execution_count": null,
      "outputs": []
    },
    {
      "cell_type": "code",
      "source": [
        "df.isnull().sum()"
      ],
      "metadata": {
        "colab": {
          "base_uri": "https://localhost:8080/"
        },
        "id": "XSoDfwigBzm2",
        "outputId": "29b1cd08-a112-4a39-81d7-c075e171d15c"
      },
      "execution_count": null,
      "outputs": [
        {
          "output_type": "execute_result",
          "data": {
            "text/plain": [
              "CustomerID                     0\n",
              "Churn                          0\n",
              "Tenure                         0\n",
              "PreferredLoginDevice           0\n",
              "CityTier                       0\n",
              "WarehouseToHome                0\n",
              "PreferredPaymentMode           0\n",
              "Gender                         0\n",
              "HourSpendOnApp                 0\n",
              "NumberOfDeviceRegistered       0\n",
              "PreferedOrderCat               0\n",
              "SatisfactionScore              0\n",
              "MaritalStatus                  0\n",
              "NumberOfAddress                0\n",
              "Complain                       0\n",
              "OrderAmountHikeFromlastYear    0\n",
              "CouponUsed                     0\n",
              "OrderCount                     0\n",
              "DaySinceLastOrder              0\n",
              "CashbackAmount                 0\n",
              "dtype: int64"
            ]
          },
          "metadata": {},
          "execution_count": 6
        }
      ]
    },
    {
      "cell_type": "code",
      "source": [
        "# X, Tenure_array represents the Tenure in months, number of months the customer is with company\n",
        "\n",
        "Tenure_array = df[['Tenure']].to_numpy()\n",
        "print(Tenure_array)\n"
      ],
      "metadata": {
        "colab": {
          "base_uri": "https://localhost:8080/"
        },
        "id": "EMW0bZjC3tPr",
        "outputId": "c3f51a3c-f177-4b9f-eca6-541b3cdb8b82"
      },
      "execution_count": null,
      "outputs": [
        {
          "output_type": "stream",
          "name": "stdout",
          "text": [
            "[[ 4.]\n",
            " [ 1.]\n",
            " [ 1.]\n",
            " ...\n",
            " [ 1.]\n",
            " [23.]\n",
            " [ 8.]]\n"
          ]
        }
      ]
    },
    {
      "cell_type": "code",
      "source": [
        "# 1. Linear regression"
      ],
      "metadata": {
        "id": "q5l1l-SHVmKw"
      },
      "execution_count": null,
      "outputs": []
    },
    {
      "cell_type": "code",
      "source": [
        "# 1.1. Linear regression from E-Commerce dataset"
      ],
      "metadata": {
        "id": "qaKIPu_8csLw"
      },
      "execution_count": null,
      "outputs": []
    },
    {
      "cell_type": "code",
      "source": [
        "a = df[['Tenure']]\n",
        "b = df[['CashbackAmount']]\n",
        "\n",
        "regr = linear_model.LinearRegression()\n",
        "regr.fit(a, b)\n",
        "\n",
        "#predict the Cashback for Tenure 2:\n",
        "predictedCashback = regr.predict([[2]])\n",
        "print(predictedCashback)"
      ],
      "metadata": {
        "colab": {
          "base_uri": "https://localhost:8080/"
        },
        "id": "HDNkEbTMON5e",
        "outputId": "c0437d4b-cf19-493a-a694-fee0af92ad0e"
      },
      "execution_count": null,
      "outputs": [
        {
          "output_type": "stream",
          "name": "stdout",
          "text": [
            "[[154.67815228]]\n"
          ]
        },
        {
          "output_type": "stream",
          "name": "stderr",
          "text": [
            "/usr/local/lib/python3.7/dist-packages/sklearn/base.py:451: UserWarning: X does not have valid feature names, but LinearRegression was fitted with feature names\n",
            "  \"X does not have valid feature names, but\"\n"
          ]
        }
      ]
    },
    {
      "cell_type": "code",
      "source": [
        "b"
      ],
      "metadata": {
        "colab": {
          "base_uri": "https://localhost:8080/",
          "height": 419
        },
        "id": "9zxK5u53RAVY",
        "outputId": "b6345dd2-b0ef-4e68-b553-51f69bcfe3af"
      },
      "execution_count": null,
      "outputs": [
        {
          "output_type": "execute_result",
          "data": {
            "text/plain": [
              "      CashbackAmount\n",
              "0             159.93\n",
              "1             120.90\n",
              "2             120.28\n",
              "3             134.07\n",
              "4             129.60\n",
              "...              ...\n",
              "5625          150.71\n",
              "5626          224.91\n",
              "5627          186.42\n",
              "5628          178.90\n",
              "5629          169.04\n",
              "\n",
              "[5630 rows x 1 columns]"
            ],
            "text/html": [
              "\n",
              "  <div id=\"df-f5772c8b-b526-4eab-9426-62b446baf37a\">\n",
              "    <div class=\"colab-df-container\">\n",
              "      <div>\n",
              "<style scoped>\n",
              "    .dataframe tbody tr th:only-of-type {\n",
              "        vertical-align: middle;\n",
              "    }\n",
              "\n",
              "    .dataframe tbody tr th {\n",
              "        vertical-align: top;\n",
              "    }\n",
              "\n",
              "    .dataframe thead th {\n",
              "        text-align: right;\n",
              "    }\n",
              "</style>\n",
              "<table border=\"1\" class=\"dataframe\">\n",
              "  <thead>\n",
              "    <tr style=\"text-align: right;\">\n",
              "      <th></th>\n",
              "      <th>CashbackAmount</th>\n",
              "    </tr>\n",
              "  </thead>\n",
              "  <tbody>\n",
              "    <tr>\n",
              "      <th>0</th>\n",
              "      <td>159.93</td>\n",
              "    </tr>\n",
              "    <tr>\n",
              "      <th>1</th>\n",
              "      <td>120.90</td>\n",
              "    </tr>\n",
              "    <tr>\n",
              "      <th>2</th>\n",
              "      <td>120.28</td>\n",
              "    </tr>\n",
              "    <tr>\n",
              "      <th>3</th>\n",
              "      <td>134.07</td>\n",
              "    </tr>\n",
              "    <tr>\n",
              "      <th>4</th>\n",
              "      <td>129.60</td>\n",
              "    </tr>\n",
              "    <tr>\n",
              "      <th>...</th>\n",
              "      <td>...</td>\n",
              "    </tr>\n",
              "    <tr>\n",
              "      <th>5625</th>\n",
              "      <td>150.71</td>\n",
              "    </tr>\n",
              "    <tr>\n",
              "      <th>5626</th>\n",
              "      <td>224.91</td>\n",
              "    </tr>\n",
              "    <tr>\n",
              "      <th>5627</th>\n",
              "      <td>186.42</td>\n",
              "    </tr>\n",
              "    <tr>\n",
              "      <th>5628</th>\n",
              "      <td>178.90</td>\n",
              "    </tr>\n",
              "    <tr>\n",
              "      <th>5629</th>\n",
              "      <td>169.04</td>\n",
              "    </tr>\n",
              "  </tbody>\n",
              "</table>\n",
              "<p>5630 rows × 1 columns</p>\n",
              "</div>\n",
              "      <button class=\"colab-df-convert\" onclick=\"convertToInteractive('df-f5772c8b-b526-4eab-9426-62b446baf37a')\"\n",
              "              title=\"Convert this dataframe to an interactive table.\"\n",
              "              style=\"display:none;\">\n",
              "        \n",
              "  <svg xmlns=\"http://www.w3.org/2000/svg\" height=\"24px\"viewBox=\"0 0 24 24\"\n",
              "       width=\"24px\">\n",
              "    <path d=\"M0 0h24v24H0V0z\" fill=\"none\"/>\n",
              "    <path d=\"M18.56 5.44l.94 2.06.94-2.06 2.06-.94-2.06-.94-.94-2.06-.94 2.06-2.06.94zm-11 1L8.5 8.5l.94-2.06 2.06-.94-2.06-.94L8.5 2.5l-.94 2.06-2.06.94zm10 10l.94 2.06.94-2.06 2.06-.94-2.06-.94-.94-2.06-.94 2.06-2.06.94z\"/><path d=\"M17.41 7.96l-1.37-1.37c-.4-.4-.92-.59-1.43-.59-.52 0-1.04.2-1.43.59L10.3 9.45l-7.72 7.72c-.78.78-.78 2.05 0 2.83L4 21.41c.39.39.9.59 1.41.59.51 0 1.02-.2 1.41-.59l7.78-7.78 2.81-2.81c.8-.78.8-2.07 0-2.86zM5.41 20L4 18.59l7.72-7.72 1.47 1.35L5.41 20z\"/>\n",
              "  </svg>\n",
              "      </button>\n",
              "      \n",
              "  <style>\n",
              "    .colab-df-container {\n",
              "      display:flex;\n",
              "      flex-wrap:wrap;\n",
              "      gap: 12px;\n",
              "    }\n",
              "\n",
              "    .colab-df-convert {\n",
              "      background-color: #E8F0FE;\n",
              "      border: none;\n",
              "      border-radius: 50%;\n",
              "      cursor: pointer;\n",
              "      display: none;\n",
              "      fill: #1967D2;\n",
              "      height: 32px;\n",
              "      padding: 0 0 0 0;\n",
              "      width: 32px;\n",
              "    }\n",
              "\n",
              "    .colab-df-convert:hover {\n",
              "      background-color: #E2EBFA;\n",
              "      box-shadow: 0px 1px 2px rgba(60, 64, 67, 0.3), 0px 1px 3px 1px rgba(60, 64, 67, 0.15);\n",
              "      fill: #174EA6;\n",
              "    }\n",
              "\n",
              "    [theme=dark] .colab-df-convert {\n",
              "      background-color: #3B4455;\n",
              "      fill: #D2E3FC;\n",
              "    }\n",
              "\n",
              "    [theme=dark] .colab-df-convert:hover {\n",
              "      background-color: #434B5C;\n",
              "      box-shadow: 0px 1px 3px 1px rgba(0, 0, 0, 0.15);\n",
              "      filter: drop-shadow(0px 1px 2px rgba(0, 0, 0, 0.3));\n",
              "      fill: #FFFFFF;\n",
              "    }\n",
              "  </style>\n",
              "\n",
              "      <script>\n",
              "        const buttonEl =\n",
              "          document.querySelector('#df-f5772c8b-b526-4eab-9426-62b446baf37a button.colab-df-convert');\n",
              "        buttonEl.style.display =\n",
              "          google.colab.kernel.accessAllowed ? 'block' : 'none';\n",
              "\n",
              "        async function convertToInteractive(key) {\n",
              "          const element = document.querySelector('#df-f5772c8b-b526-4eab-9426-62b446baf37a');\n",
              "          const dataTable =\n",
              "            await google.colab.kernel.invokeFunction('convertToInteractive',\n",
              "                                                     [key], {});\n",
              "          if (!dataTable) return;\n",
              "\n",
              "          const docLinkHtml = 'Like what you see? Visit the ' +\n",
              "            '<a target=\"_blank\" href=https://colab.research.google.com/notebooks/data_table.ipynb>data table notebook</a>'\n",
              "            + ' to learn more about interactive tables.';\n",
              "          element.innerHTML = '';\n",
              "          dataTable['output_type'] = 'display_data';\n",
              "          await google.colab.output.renderOutput(dataTable, element);\n",
              "          const docLink = document.createElement('div');\n",
              "          docLink.innerHTML = docLinkHtml;\n",
              "          element.appendChild(docLink);\n",
              "        }\n",
              "      </script>\n",
              "    </div>\n",
              "  </div>\n",
              "  "
            ]
          },
          "metadata": {},
          "execution_count": 11
        }
      ]
    },
    {
      "cell_type": "code",
      "source": [
        "slope, intercept, r, p, std_err = stats.linregress(a[\"Tenure\"],b[\"CashbackAmount\"])"
      ],
      "metadata": {
        "id": "HuH4ERy-mtoQ"
      },
      "execution_count": null,
      "outputs": []
    },
    {
      "cell_type": "code",
      "source": [
        "c = pd.DataFrame(regr.predict(a), columns = ['Predicted_cashback'])"
      ],
      "metadata": {
        "id": "OC-QhM1COzkd"
      },
      "execution_count": null,
      "outputs": []
    },
    {
      "cell_type": "code",
      "source": [
        "Linear = [a[\"Tenure\"], b[\"CashbackAmount\"],c[\"Predicted_cashback\"] ]"
      ],
      "metadata": {
        "id": "LIJb0T1WPGWo"
      },
      "execution_count": null,
      "outputs": []
    },
    {
      "cell_type": "code",
      "source": [
        "headers = [\"Tenure\", \"CashbackAmount\", \"Predicted_cashback\"]\n",
        "Linear = pd.concat(Linear, axis=1, keys=headers)"
      ],
      "metadata": {
        "id": "pFPPIoHSRPNT"
      },
      "execution_count": null,
      "outputs": []
    },
    {
      "cell_type": "code",
      "source": [
        "Linear"
      ],
      "metadata": {
        "colab": {
          "base_uri": "https://localhost:8080/",
          "height": 419
        },
        "id": "vqCVvwxGRwgF",
        "outputId": "e49ae203-5a5d-4f87-8a3a-38adbc9fd3a0"
      },
      "execution_count": null,
      "outputs": [
        {
          "output_type": "execute_result",
          "data": {
            "text/plain": [
              "      Tenure  CashbackAmount  Predicted_cashback\n",
              "0        4.0          159.93          160.489459\n",
              "1        1.0          120.90          151.772499\n",
              "2        1.0          120.28          151.772499\n",
              "3        0.0          134.07          148.866845\n",
              "4        0.0          129.60          148.866845\n",
              "...      ...             ...                 ...\n",
              "5625    10.0          150.71          177.923380\n",
              "5626    13.0          224.91          186.640341\n",
              "5627     1.0          186.42          151.772499\n",
              "5628    23.0          178.90          215.696876\n",
              "5629     8.0          169.04          172.112073\n",
              "\n",
              "[5630 rows x 3 columns]"
            ],
            "text/html": [
              "\n",
              "  <div id=\"df-f1367493-b879-4759-9295-30e6d49cfd27\">\n",
              "    <div class=\"colab-df-container\">\n",
              "      <div>\n",
              "<style scoped>\n",
              "    .dataframe tbody tr th:only-of-type {\n",
              "        vertical-align: middle;\n",
              "    }\n",
              "\n",
              "    .dataframe tbody tr th {\n",
              "        vertical-align: top;\n",
              "    }\n",
              "\n",
              "    .dataframe thead th {\n",
              "        text-align: right;\n",
              "    }\n",
              "</style>\n",
              "<table border=\"1\" class=\"dataframe\">\n",
              "  <thead>\n",
              "    <tr style=\"text-align: right;\">\n",
              "      <th></th>\n",
              "      <th>Tenure</th>\n",
              "      <th>CashbackAmount</th>\n",
              "      <th>Predicted_cashback</th>\n",
              "    </tr>\n",
              "  </thead>\n",
              "  <tbody>\n",
              "    <tr>\n",
              "      <th>0</th>\n",
              "      <td>4.0</td>\n",
              "      <td>159.93</td>\n",
              "      <td>160.489459</td>\n",
              "    </tr>\n",
              "    <tr>\n",
              "      <th>1</th>\n",
              "      <td>1.0</td>\n",
              "      <td>120.90</td>\n",
              "      <td>151.772499</td>\n",
              "    </tr>\n",
              "    <tr>\n",
              "      <th>2</th>\n",
              "      <td>1.0</td>\n",
              "      <td>120.28</td>\n",
              "      <td>151.772499</td>\n",
              "    </tr>\n",
              "    <tr>\n",
              "      <th>3</th>\n",
              "      <td>0.0</td>\n",
              "      <td>134.07</td>\n",
              "      <td>148.866845</td>\n",
              "    </tr>\n",
              "    <tr>\n",
              "      <th>4</th>\n",
              "      <td>0.0</td>\n",
              "      <td>129.60</td>\n",
              "      <td>148.866845</td>\n",
              "    </tr>\n",
              "    <tr>\n",
              "      <th>...</th>\n",
              "      <td>...</td>\n",
              "      <td>...</td>\n",
              "      <td>...</td>\n",
              "    </tr>\n",
              "    <tr>\n",
              "      <th>5625</th>\n",
              "      <td>10.0</td>\n",
              "      <td>150.71</td>\n",
              "      <td>177.923380</td>\n",
              "    </tr>\n",
              "    <tr>\n",
              "      <th>5626</th>\n",
              "      <td>13.0</td>\n",
              "      <td>224.91</td>\n",
              "      <td>186.640341</td>\n",
              "    </tr>\n",
              "    <tr>\n",
              "      <th>5627</th>\n",
              "      <td>1.0</td>\n",
              "      <td>186.42</td>\n",
              "      <td>151.772499</td>\n",
              "    </tr>\n",
              "    <tr>\n",
              "      <th>5628</th>\n",
              "      <td>23.0</td>\n",
              "      <td>178.90</td>\n",
              "      <td>215.696876</td>\n",
              "    </tr>\n",
              "    <tr>\n",
              "      <th>5629</th>\n",
              "      <td>8.0</td>\n",
              "      <td>169.04</td>\n",
              "      <td>172.112073</td>\n",
              "    </tr>\n",
              "  </tbody>\n",
              "</table>\n",
              "<p>5630 rows × 3 columns</p>\n",
              "</div>\n",
              "      <button class=\"colab-df-convert\" onclick=\"convertToInteractive('df-f1367493-b879-4759-9295-30e6d49cfd27')\"\n",
              "              title=\"Convert this dataframe to an interactive table.\"\n",
              "              style=\"display:none;\">\n",
              "        \n",
              "  <svg xmlns=\"http://www.w3.org/2000/svg\" height=\"24px\"viewBox=\"0 0 24 24\"\n",
              "       width=\"24px\">\n",
              "    <path d=\"M0 0h24v24H0V0z\" fill=\"none\"/>\n",
              "    <path d=\"M18.56 5.44l.94 2.06.94-2.06 2.06-.94-2.06-.94-.94-2.06-.94 2.06-2.06.94zm-11 1L8.5 8.5l.94-2.06 2.06-.94-2.06-.94L8.5 2.5l-.94 2.06-2.06.94zm10 10l.94 2.06.94-2.06 2.06-.94-2.06-.94-.94-2.06-.94 2.06-2.06.94z\"/><path d=\"M17.41 7.96l-1.37-1.37c-.4-.4-.92-.59-1.43-.59-.52 0-1.04.2-1.43.59L10.3 9.45l-7.72 7.72c-.78.78-.78 2.05 0 2.83L4 21.41c.39.39.9.59 1.41.59.51 0 1.02-.2 1.41-.59l7.78-7.78 2.81-2.81c.8-.78.8-2.07 0-2.86zM5.41 20L4 18.59l7.72-7.72 1.47 1.35L5.41 20z\"/>\n",
              "  </svg>\n",
              "      </button>\n",
              "      \n",
              "  <style>\n",
              "    .colab-df-container {\n",
              "      display:flex;\n",
              "      flex-wrap:wrap;\n",
              "      gap: 12px;\n",
              "    }\n",
              "\n",
              "    .colab-df-convert {\n",
              "      background-color: #E8F0FE;\n",
              "      border: none;\n",
              "      border-radius: 50%;\n",
              "      cursor: pointer;\n",
              "      display: none;\n",
              "      fill: #1967D2;\n",
              "      height: 32px;\n",
              "      padding: 0 0 0 0;\n",
              "      width: 32px;\n",
              "    }\n",
              "\n",
              "    .colab-df-convert:hover {\n",
              "      background-color: #E2EBFA;\n",
              "      box-shadow: 0px 1px 2px rgba(60, 64, 67, 0.3), 0px 1px 3px 1px rgba(60, 64, 67, 0.15);\n",
              "      fill: #174EA6;\n",
              "    }\n",
              "\n",
              "    [theme=dark] .colab-df-convert {\n",
              "      background-color: #3B4455;\n",
              "      fill: #D2E3FC;\n",
              "    }\n",
              "\n",
              "    [theme=dark] .colab-df-convert:hover {\n",
              "      background-color: #434B5C;\n",
              "      box-shadow: 0px 1px 3px 1px rgba(0, 0, 0, 0.15);\n",
              "      filter: drop-shadow(0px 1px 2px rgba(0, 0, 0, 0.3));\n",
              "      fill: #FFFFFF;\n",
              "    }\n",
              "  </style>\n",
              "\n",
              "      <script>\n",
              "        const buttonEl =\n",
              "          document.querySelector('#df-f1367493-b879-4759-9295-30e6d49cfd27 button.colab-df-convert');\n",
              "        buttonEl.style.display =\n",
              "          google.colab.kernel.accessAllowed ? 'block' : 'none';\n",
              "\n",
              "        async function convertToInteractive(key) {\n",
              "          const element = document.querySelector('#df-f1367493-b879-4759-9295-30e6d49cfd27');\n",
              "          const dataTable =\n",
              "            await google.colab.kernel.invokeFunction('convertToInteractive',\n",
              "                                                     [key], {});\n",
              "          if (!dataTable) return;\n",
              "\n",
              "          const docLinkHtml = 'Like what you see? Visit the ' +\n",
              "            '<a target=\"_blank\" href=https://colab.research.google.com/notebooks/data_table.ipynb>data table notebook</a>'\n",
              "            + ' to learn more about interactive tables.';\n",
              "          element.innerHTML = '';\n",
              "          dataTable['output_type'] = 'display_data';\n",
              "          await google.colab.output.renderOutput(dataTable, element);\n",
              "          const docLink = document.createElement('div');\n",
              "          docLink.innerHTML = docLinkHtml;\n",
              "          element.appendChild(docLink);\n",
              "        }\n",
              "      </script>\n",
              "    </div>\n",
              "  </div>\n",
              "  "
            ]
          },
          "metadata": {},
          "execution_count": 16
        }
      ]
    },
    {
      "cell_type": "code",
      "source": [
        "Linear2 =Linear.groupby(['Tenure']).mean()"
      ],
      "metadata": {
        "id": "rWMB7-uBgUOo"
      },
      "execution_count": null,
      "outputs": []
    },
    {
      "cell_type": "code",
      "source": [
        "Linear3 = pd.DataFrame(Linear2, columns=[\"CashbackAmount\", \"Predicted_cashback\"])"
      ],
      "metadata": {
        "id": "LlybuR78j53x"
      },
      "execution_count": null,
      "outputs": []
    },
    {
      "cell_type": "code",
      "source": [
        "Linear3"
      ],
      "metadata": {
        "colab": {
          "base_uri": "https://localhost:8080/",
          "height": 1000
        },
        "id": "LHuPscI3kuxd",
        "outputId": "da7f9dd7-5aa0-42e0-d557-f916e33d693c"
      },
      "execution_count": null,
      "outputs": [
        {
          "output_type": "execute_result",
          "data": {
            "text/plain": [
              "        CashbackAmount  Predicted_cashback\n",
              "Tenure                                    \n",
              "0.0         142.442579          148.866845\n",
              "1.0         150.023637          151.772499\n",
              "2.0         158.012994          154.678152\n",
              "3.0         168.050821          157.583806\n",
              "4.0         170.239212          160.489459\n",
              "5.0         171.282500          163.395113\n",
              "6.0         168.001913          166.300766\n",
              "7.0         165.265249          169.206420\n",
              "8.0         168.699620          172.112073\n",
              "9.0         171.155061          175.017727\n",
              "10.0        174.123380          177.923380\n",
              "11.0        170.799948          180.829034\n",
              "12.0        184.030989          183.734687\n",
              "13.0        191.484862          186.640341\n",
              "14.0        197.089091          189.545995\n",
              "15.0        194.507296          192.451648\n",
              "16.0        201.805168          195.357302\n",
              "17.0        201.233396          198.262955\n",
              "18.0        192.635447          201.168609\n",
              "19.0        207.315500          204.074262\n",
              "20.0        214.962752          206.979916\n",
              "21.0        209.488810          209.885569\n",
              "22.0        213.122368          212.791223\n",
              "23.0        234.026067          215.696876\n",
              "24.0        242.226667          218.602530\n",
              "25.0        216.445254          221.508183\n",
              "26.0        224.909167          224.413837\n",
              "27.0        221.869091          227.319490\n",
              "28.0        232.030571          230.225144\n",
              "29.0        239.699091          233.130797\n",
              "30.0        205.264242          236.036451\n",
              "31.0        216.268571          238.942104\n",
              "50.0        149.000000          294.149521\n",
              "51.0        174.000000          297.055175\n",
              "60.0        278.750000          323.206056\n",
              "61.0        303.750000          326.111710"
            ],
            "text/html": [
              "\n",
              "  <div id=\"df-4514b3bd-ddbc-4bf8-8f09-1d2743d9e413\">\n",
              "    <div class=\"colab-df-container\">\n",
              "      <div>\n",
              "<style scoped>\n",
              "    .dataframe tbody tr th:only-of-type {\n",
              "        vertical-align: middle;\n",
              "    }\n",
              "\n",
              "    .dataframe tbody tr th {\n",
              "        vertical-align: top;\n",
              "    }\n",
              "\n",
              "    .dataframe thead th {\n",
              "        text-align: right;\n",
              "    }\n",
              "</style>\n",
              "<table border=\"1\" class=\"dataframe\">\n",
              "  <thead>\n",
              "    <tr style=\"text-align: right;\">\n",
              "      <th></th>\n",
              "      <th>CashbackAmount</th>\n",
              "      <th>Predicted_cashback</th>\n",
              "    </tr>\n",
              "    <tr>\n",
              "      <th>Tenure</th>\n",
              "      <th></th>\n",
              "      <th></th>\n",
              "    </tr>\n",
              "  </thead>\n",
              "  <tbody>\n",
              "    <tr>\n",
              "      <th>0.0</th>\n",
              "      <td>142.442579</td>\n",
              "      <td>148.866845</td>\n",
              "    </tr>\n",
              "    <tr>\n",
              "      <th>1.0</th>\n",
              "      <td>150.023637</td>\n",
              "      <td>151.772499</td>\n",
              "    </tr>\n",
              "    <tr>\n",
              "      <th>2.0</th>\n",
              "      <td>158.012994</td>\n",
              "      <td>154.678152</td>\n",
              "    </tr>\n",
              "    <tr>\n",
              "      <th>3.0</th>\n",
              "      <td>168.050821</td>\n",
              "      <td>157.583806</td>\n",
              "    </tr>\n",
              "    <tr>\n",
              "      <th>4.0</th>\n",
              "      <td>170.239212</td>\n",
              "      <td>160.489459</td>\n",
              "    </tr>\n",
              "    <tr>\n",
              "      <th>5.0</th>\n",
              "      <td>171.282500</td>\n",
              "      <td>163.395113</td>\n",
              "    </tr>\n",
              "    <tr>\n",
              "      <th>6.0</th>\n",
              "      <td>168.001913</td>\n",
              "      <td>166.300766</td>\n",
              "    </tr>\n",
              "    <tr>\n",
              "      <th>7.0</th>\n",
              "      <td>165.265249</td>\n",
              "      <td>169.206420</td>\n",
              "    </tr>\n",
              "    <tr>\n",
              "      <th>8.0</th>\n",
              "      <td>168.699620</td>\n",
              "      <td>172.112073</td>\n",
              "    </tr>\n",
              "    <tr>\n",
              "      <th>9.0</th>\n",
              "      <td>171.155061</td>\n",
              "      <td>175.017727</td>\n",
              "    </tr>\n",
              "    <tr>\n",
              "      <th>10.0</th>\n",
              "      <td>174.123380</td>\n",
              "      <td>177.923380</td>\n",
              "    </tr>\n",
              "    <tr>\n",
              "      <th>11.0</th>\n",
              "      <td>170.799948</td>\n",
              "      <td>180.829034</td>\n",
              "    </tr>\n",
              "    <tr>\n",
              "      <th>12.0</th>\n",
              "      <td>184.030989</td>\n",
              "      <td>183.734687</td>\n",
              "    </tr>\n",
              "    <tr>\n",
              "      <th>13.0</th>\n",
              "      <td>191.484862</td>\n",
              "      <td>186.640341</td>\n",
              "    </tr>\n",
              "    <tr>\n",
              "      <th>14.0</th>\n",
              "      <td>197.089091</td>\n",
              "      <td>189.545995</td>\n",
              "    </tr>\n",
              "    <tr>\n",
              "      <th>15.0</th>\n",
              "      <td>194.507296</td>\n",
              "      <td>192.451648</td>\n",
              "    </tr>\n",
              "    <tr>\n",
              "      <th>16.0</th>\n",
              "      <td>201.805168</td>\n",
              "      <td>195.357302</td>\n",
              "    </tr>\n",
              "    <tr>\n",
              "      <th>17.0</th>\n",
              "      <td>201.233396</td>\n",
              "      <td>198.262955</td>\n",
              "    </tr>\n",
              "    <tr>\n",
              "      <th>18.0</th>\n",
              "      <td>192.635447</td>\n",
              "      <td>201.168609</td>\n",
              "    </tr>\n",
              "    <tr>\n",
              "      <th>19.0</th>\n",
              "      <td>207.315500</td>\n",
              "      <td>204.074262</td>\n",
              "    </tr>\n",
              "    <tr>\n",
              "      <th>20.0</th>\n",
              "      <td>214.962752</td>\n",
              "      <td>206.979916</td>\n",
              "    </tr>\n",
              "    <tr>\n",
              "      <th>21.0</th>\n",
              "      <td>209.488810</td>\n",
              "      <td>209.885569</td>\n",
              "    </tr>\n",
              "    <tr>\n",
              "      <th>22.0</th>\n",
              "      <td>213.122368</td>\n",
              "      <td>212.791223</td>\n",
              "    </tr>\n",
              "    <tr>\n",
              "      <th>23.0</th>\n",
              "      <td>234.026067</td>\n",
              "      <td>215.696876</td>\n",
              "    </tr>\n",
              "    <tr>\n",
              "      <th>24.0</th>\n",
              "      <td>242.226667</td>\n",
              "      <td>218.602530</td>\n",
              "    </tr>\n",
              "    <tr>\n",
              "      <th>25.0</th>\n",
              "      <td>216.445254</td>\n",
              "      <td>221.508183</td>\n",
              "    </tr>\n",
              "    <tr>\n",
              "      <th>26.0</th>\n",
              "      <td>224.909167</td>\n",
              "      <td>224.413837</td>\n",
              "    </tr>\n",
              "    <tr>\n",
              "      <th>27.0</th>\n",
              "      <td>221.869091</td>\n",
              "      <td>227.319490</td>\n",
              "    </tr>\n",
              "    <tr>\n",
              "      <th>28.0</th>\n",
              "      <td>232.030571</td>\n",
              "      <td>230.225144</td>\n",
              "    </tr>\n",
              "    <tr>\n",
              "      <th>29.0</th>\n",
              "      <td>239.699091</td>\n",
              "      <td>233.130797</td>\n",
              "    </tr>\n",
              "    <tr>\n",
              "      <th>30.0</th>\n",
              "      <td>205.264242</td>\n",
              "      <td>236.036451</td>\n",
              "    </tr>\n",
              "    <tr>\n",
              "      <th>31.0</th>\n",
              "      <td>216.268571</td>\n",
              "      <td>238.942104</td>\n",
              "    </tr>\n",
              "    <tr>\n",
              "      <th>50.0</th>\n",
              "      <td>149.000000</td>\n",
              "      <td>294.149521</td>\n",
              "    </tr>\n",
              "    <tr>\n",
              "      <th>51.0</th>\n",
              "      <td>174.000000</td>\n",
              "      <td>297.055175</td>\n",
              "    </tr>\n",
              "    <tr>\n",
              "      <th>60.0</th>\n",
              "      <td>278.750000</td>\n",
              "      <td>323.206056</td>\n",
              "    </tr>\n",
              "    <tr>\n",
              "      <th>61.0</th>\n",
              "      <td>303.750000</td>\n",
              "      <td>326.111710</td>\n",
              "    </tr>\n",
              "  </tbody>\n",
              "</table>\n",
              "</div>\n",
              "      <button class=\"colab-df-convert\" onclick=\"convertToInteractive('df-4514b3bd-ddbc-4bf8-8f09-1d2743d9e413')\"\n",
              "              title=\"Convert this dataframe to an interactive table.\"\n",
              "              style=\"display:none;\">\n",
              "        \n",
              "  <svg xmlns=\"http://www.w3.org/2000/svg\" height=\"24px\"viewBox=\"0 0 24 24\"\n",
              "       width=\"24px\">\n",
              "    <path d=\"M0 0h24v24H0V0z\" fill=\"none\"/>\n",
              "    <path d=\"M18.56 5.44l.94 2.06.94-2.06 2.06-.94-2.06-.94-.94-2.06-.94 2.06-2.06.94zm-11 1L8.5 8.5l.94-2.06 2.06-.94-2.06-.94L8.5 2.5l-.94 2.06-2.06.94zm10 10l.94 2.06.94-2.06 2.06-.94-2.06-.94-.94-2.06-.94 2.06-2.06.94z\"/><path d=\"M17.41 7.96l-1.37-1.37c-.4-.4-.92-.59-1.43-.59-.52 0-1.04.2-1.43.59L10.3 9.45l-7.72 7.72c-.78.78-.78 2.05 0 2.83L4 21.41c.39.39.9.59 1.41.59.51 0 1.02-.2 1.41-.59l7.78-7.78 2.81-2.81c.8-.78.8-2.07 0-2.86zM5.41 20L4 18.59l7.72-7.72 1.47 1.35L5.41 20z\"/>\n",
              "  </svg>\n",
              "      </button>\n",
              "      \n",
              "  <style>\n",
              "    .colab-df-container {\n",
              "      display:flex;\n",
              "      flex-wrap:wrap;\n",
              "      gap: 12px;\n",
              "    }\n",
              "\n",
              "    .colab-df-convert {\n",
              "      background-color: #E8F0FE;\n",
              "      border: none;\n",
              "      border-radius: 50%;\n",
              "      cursor: pointer;\n",
              "      display: none;\n",
              "      fill: #1967D2;\n",
              "      height: 32px;\n",
              "      padding: 0 0 0 0;\n",
              "      width: 32px;\n",
              "    }\n",
              "\n",
              "    .colab-df-convert:hover {\n",
              "      background-color: #E2EBFA;\n",
              "      box-shadow: 0px 1px 2px rgba(60, 64, 67, 0.3), 0px 1px 3px 1px rgba(60, 64, 67, 0.15);\n",
              "      fill: #174EA6;\n",
              "    }\n",
              "\n",
              "    [theme=dark] .colab-df-convert {\n",
              "      background-color: #3B4455;\n",
              "      fill: #D2E3FC;\n",
              "    }\n",
              "\n",
              "    [theme=dark] .colab-df-convert:hover {\n",
              "      background-color: #434B5C;\n",
              "      box-shadow: 0px 1px 3px 1px rgba(0, 0, 0, 0.15);\n",
              "      filter: drop-shadow(0px 1px 2px rgba(0, 0, 0, 0.3));\n",
              "      fill: #FFFFFF;\n",
              "    }\n",
              "  </style>\n",
              "\n",
              "      <script>\n",
              "        const buttonEl =\n",
              "          document.querySelector('#df-4514b3bd-ddbc-4bf8-8f09-1d2743d9e413 button.colab-df-convert');\n",
              "        buttonEl.style.display =\n",
              "          google.colab.kernel.accessAllowed ? 'block' : 'none';\n",
              "\n",
              "        async function convertToInteractive(key) {\n",
              "          const element = document.querySelector('#df-4514b3bd-ddbc-4bf8-8f09-1d2743d9e413');\n",
              "          const dataTable =\n",
              "            await google.colab.kernel.invokeFunction('convertToInteractive',\n",
              "                                                     [key], {});\n",
              "          if (!dataTable) return;\n",
              "\n",
              "          const docLinkHtml = 'Like what you see? Visit the ' +\n",
              "            '<a target=\"_blank\" href=https://colab.research.google.com/notebooks/data_table.ipynb>data table notebook</a>'\n",
              "            + ' to learn more about interactive tables.';\n",
              "          element.innerHTML = '';\n",
              "          dataTable['output_type'] = 'display_data';\n",
              "          await google.colab.output.renderOutput(dataTable, element);\n",
              "          const docLink = document.createElement('div');\n",
              "          docLink.innerHTML = docLinkHtml;\n",
              "          element.appendChild(docLink);\n",
              "        }\n",
              "      </script>\n",
              "    </div>\n",
              "  </div>\n",
              "  "
            ]
          },
          "metadata": {},
          "execution_count": 19
        }
      ]
    },
    {
      "cell_type": "code",
      "source": [
        "Linear3.plot(style={'CashbackAmount': ':k', 'Predicted_cashback': '--k'}, figsize=(9, 5))"
      ],
      "metadata": {
        "colab": {
          "base_uri": "https://localhost:8080/",
          "height": 351
        },
        "id": "2DH-EQckivw6",
        "outputId": "ad33d4dd-b2e2-4f63-9379-67ebe44f46bd"
      },
      "execution_count": null,
      "outputs": [
        {
          "output_type": "execute_result",
          "data": {
            "text/plain": [
              "<matplotlib.axes._subplots.AxesSubplot at 0x7f83bd325dd0>"
            ]
          },
          "metadata": {},
          "execution_count": 20
        },
        {
          "output_type": "display_data",
          "data": {
            "text/plain": [
              "<Figure size 648x360 with 1 Axes>"
            ],
            "image/png": "[encoded data removed]"
          },
          "metadata": {
            "needs_background": "light"
          }
        }
      ]
    },
    {
      "cell_type": "code",
      "source": [
        "# 1.2. Anscombe quartet linear regression"
      ],
      "metadata": {
        "id": "wBqUeaw_c4GT"
      },
      "execution_count": null,
      "outputs": []
    },
    {
      "cell_type": "code",
      "source": [
        "# There are 4 datasets, each different quality but similar regression line\n",
        "anscombe = sns.load_dataset('anscombe')\n",
        "anscombe.head()"
      ],
      "metadata": {
        "colab": {
          "base_uri": "https://localhost:8080/",
          "height": 204
        },
        "id": "8KL_vKYvc-XQ",
        "outputId": "29919abf-2fb1-4eb4-d97b-8e95c330c672"
      },
      "execution_count": null,
      "outputs": [
        {
          "output_type": "execute_result",
          "data": {
            "text/plain": [
              "  dataset     x     y\n",
              "0       I  10.0  8.04\n",
              "1       I   8.0  6.95\n",
              "2       I  13.0  7.58\n",
              "3       I   9.0  8.81\n",
              "4       I  11.0  8.33"
            ],
            "text/html": [
              "\n",
              "  <div id=\"df-1f0097bc-53bf-4b83-9dcf-7c6c329e620f\">\n",
              "    <div class=\"colab-df-container\">\n",
              "      <div>\n",
              "<style scoped>\n",
              "    .dataframe tbody tr th:only-of-type {\n",
              "        vertical-align: middle;\n",
              "    }\n",
              "\n",
              "    .dataframe tbody tr th {\n",
              "        vertical-align: top;\n",
              "    }\n",
              "\n",
              "    .dataframe thead th {\n",
              "        text-align: right;\n",
              "    }\n",
              "</style>\n",
              "<table border=\"1\" class=\"dataframe\">\n",
              "  <thead>\n",
              "    <tr style=\"text-align: right;\">\n",
              "      <th></th>\n",
              "      <th>dataset</th>\n",
              "      <th>x</th>\n",
              "      <th>y</th>\n",
              "    </tr>\n",
              "  </thead>\n",
              "  <tbody>\n",
              "    <tr>\n",
              "      <th>0</th>\n",
              "      <td>I</td>\n",
              "      <td>10.0</td>\n",
              "      <td>8.04</td>\n",
              "    </tr>\n",
              "    <tr>\n",
              "      <th>1</th>\n",
              "      <td>I</td>\n",
              "      <td>8.0</td>\n",
              "      <td>6.95</td>\n",
              "    </tr>\n",
              "    <tr>\n",
              "      <th>2</th>\n",
              "      <td>I</td>\n",
              "      <td>13.0</td>\n",
              "      <td>7.58</td>\n",
              "    </tr>\n",
              "    <tr>\n",
              "      <th>3</th>\n",
              "      <td>I</td>\n",
              "      <td>9.0</td>\n",
              "      <td>8.81</td>\n",
              "    </tr>\n",
              "    <tr>\n",
              "      <th>4</th>\n",
              "      <td>I</td>\n",
              "      <td>11.0</td>\n",
              "      <td>8.33</td>\n",
              "    </tr>\n",
              "  </tbody>\n",
              "</table>\n",
              "</div>\n",
              "      <button class=\"colab-df-convert\" onclick=\"convertToInteractive('df-1f0097bc-53bf-4b83-9dcf-7c6c329e620f')\"\n",
              "              title=\"Convert this dataframe to an interactive table.\"\n",
              "              style=\"display:none;\">\n",
              "        \n",
              "  <svg xmlns=\"http://www.w3.org/2000/svg\" height=\"24px\"viewBox=\"0 0 24 24\"\n",
              "       width=\"24px\">\n",
              "    <path d=\"M0 0h24v24H0V0z\" fill=\"none\"/>\n",
              "    <path d=\"M18.56 5.44l.94 2.06.94-2.06 2.06-.94-2.06-.94-.94-2.06-.94 2.06-2.06.94zm-11 1L8.5 8.5l.94-2.06 2.06-.94-2.06-.94L8.5 2.5l-.94 2.06-2.06.94zm10 10l.94 2.06.94-2.06 2.06-.94-2.06-.94-.94-2.06-.94 2.06-2.06.94z\"/><path d=\"M17.41 7.96l-1.37-1.37c-.4-.4-.92-.59-1.43-.59-.52 0-1.04.2-1.43.59L10.3 9.45l-7.72 7.72c-.78.78-.78 2.05 0 2.83L4 21.41c.39.39.9.59 1.41.59.51 0 1.02-.2 1.41-.59l7.78-7.78 2.81-2.81c.8-.78.8-2.07 0-2.86zM5.41 20L4 18.59l7.72-7.72 1.47 1.35L5.41 20z\"/>\n",
              "  </svg>\n",
              "      </button>\n",
              "      \n",
              "  <style>\n",
              "    .colab-df-container {\n",
              "      display:flex;\n",
              "      flex-wrap:wrap;\n",
              "      gap: 12px;\n",
              "    }\n",
              "\n",
              "    .colab-df-convert {\n",
              "      background-color: #E8F0FE;\n",
              "      border: none;\n",
              "      border-radius: 50%;\n",
              "      cursor: pointer;\n",
              "      display: none;\n",
              "      fill: #1967D2;\n",
              "      height: 32px;\n",
              "      padding: 0 0 0 0;\n",
              "      width: 32px;\n",
              "    }\n",
              "\n",
              "    .colab-df-convert:hover {\n",
              "      background-color: #E2EBFA;\n",
              "      box-shadow: 0px 1px 2px rgba(60, 64, 67, 0.3), 0px 1px 3px 1px rgba(60, 64, 67, 0.15);\n",
              "      fill: #174EA6;\n",
              "    }\n",
              "\n",
              "    [theme=dark] .colab-df-convert {\n",
              "      background-color: #3B4455;\n",
              "      fill: #D2E3FC;\n",
              "    }\n",
              "\n",
              "    [theme=dark] .colab-df-convert:hover {\n",
              "      background-color: #434B5C;\n",
              "      box-shadow: 0px 1px 3px 1px rgba(0, 0, 0, 0.15);\n",
              "      filter: drop-shadow(0px 1px 2px rgba(0, 0, 0, 0.3));\n",
              "      fill: #FFFFFF;\n",
              "    }\n",
              "  </style>\n",
              "\n",
              "      <script>\n",
              "        const buttonEl =\n",
              "          document.querySelector('#df-1f0097bc-53bf-4b83-9dcf-7c6c329e620f button.colab-df-convert');\n",
              "        buttonEl.style.display =\n",
              "          google.colab.kernel.accessAllowed ? 'block' : 'none';\n",
              "\n",
              "        async function convertToInteractive(key) {\n",
              "          const element = document.querySelector('#df-1f0097bc-53bf-4b83-9dcf-7c6c329e620f');\n",
              "          const dataTable =\n",
              "            await google.colab.kernel.invokeFunction('convertToInteractive',\n",
              "                                                     [key], {});\n",
              "          if (!dataTable) return;\n",
              "\n",
              "          const docLinkHtml = 'Like what you see? Visit the ' +\n",
              "            '<a target=\"_blank\" href=https://colab.research.google.com/notebooks/data_table.ipynb>data table notebook</a>'\n",
              "            + ' to learn more about interactive tables.';\n",
              "          element.innerHTML = '';\n",
              "          dataTable['output_type'] = 'display_data';\n",
              "          await google.colab.output.renderOutput(dataTable, element);\n",
              "          const docLink = document.createElement('div');\n",
              "          docLink.innerHTML = docLinkHtml;\n",
              "          element.appendChild(docLink);\n",
              "        }\n",
              "      </script>\n",
              "    </div>\n",
              "  </div>\n",
              "  "
            ]
          },
          "metadata": {},
          "execution_count": 22
        }
      ]
    },
    {
      "cell_type": "code",
      "source": [
        "# Revise the dataset shape, statistical metrics are similar\n",
        "anscombe.shape\n",
        "anscombe.groupby('dataset').describe()"
      ],
      "metadata": {
        "colab": {
          "base_uri": "https://localhost:8080/",
          "height": 279
        },
        "id": "bV5bAsBVc-dI",
        "outputId": "a227eb36-eeac-4ce6-eaae-928b09c82f1e"
      },
      "execution_count": null,
      "outputs": [
        {
          "output_type": "execute_result",
          "data": {
            "text/plain": [
              "            x                                               y            \\\n",
              "        count mean       std  min  25%  50%   75%   max count      mean   \n",
              "dataset                                                                   \n",
              "I        11.0  9.0  3.316625  4.0  6.5  9.0  11.5  14.0  11.0  7.500909   \n",
              "II       11.0  9.0  3.316625  4.0  6.5  9.0  11.5  14.0  11.0  7.500909   \n",
              "III      11.0  9.0  3.316625  4.0  6.5  9.0  11.5  14.0  11.0  7.500000   \n",
              "IV       11.0  9.0  3.316625  8.0  8.0  8.0   8.0  19.0  11.0  7.500909   \n",
              "\n",
              "                                                   \n",
              "              std   min    25%   50%   75%    max  \n",
              "dataset                                            \n",
              "I        2.031568  4.26  6.315  7.58  8.57  10.84  \n",
              "II       2.031657  3.10  6.695  8.14  8.95   9.26  \n",
              "III      2.030424  5.39  6.250  7.11  7.98  12.74  \n",
              "IV       2.030579  5.25  6.170  7.04  8.19  12.50  "
            ],
            "text/html": [
              "\n",
              "  <div id=\"df-d09a91af-5663-4bab-a62a-042a0fd901f1\">\n",
              "    <div class=\"colab-df-container\">\n",
              "      <div>\n",
              "<style scoped>\n",
              "    .dataframe tbody tr th:only-of-type {\n",
              "        vertical-align: middle;\n",
              "    }\n",
              "\n",
              "    .dataframe tbody tr th {\n",
              "        vertical-align: top;\n",
              "    }\n",
              "\n",
              "    .dataframe thead tr th {\n",
              "        text-align: left;\n",
              "    }\n",
              "\n",
              "    .dataframe thead tr:last-of-type th {\n",
              "        text-align: right;\n",
              "    }\n",
              "</style>\n",
              "<table border=\"1\" class=\"dataframe\">\n",
              "  <thead>\n",
              "    <tr>\n",
              "      <th></th>\n",
              "      <th colspan=\"8\" halign=\"left\">x</th>\n",
              "      <th colspan=\"8\" halign=\"left\">y</th>\n",
              "    </tr>\n",
              "    <tr>\n",
              "      <th></th>\n",
              "      <th>count</th>\n",
              "      <th>mean</th>\n",
              "      <th>std</th>\n",
              "      <th>min</th>\n",
              "      <th>25%</th>\n",
              "      <th>50%</th>\n",
              "      <th>75%</th>\n",
              "      <th>max</th>\n",
              "      <th>count</th>\n",
              "      <th>mean</th>\n",
              "      <th>std</th>\n",
              "      <th>min</th>\n",
              "      <th>25%</th>\n",
              "      <th>50%</th>\n",
              "      <th>75%</th>\n",
              "      <th>max</th>\n",
              "    </tr>\n",
              "    <tr>\n",
              "      <th>dataset</th>\n",
              "      <th></th>\n",
              "      <th></th>\n",
              "      <th></th>\n",
              "      <th></th>\n",
              "      <th></th>\n",
              "      <th></th>\n",
              "      <th></th>\n",
              "      <th></th>\n",
              "      <th></th>\n",
              "      <th></th>\n",
              "      <th></th>\n",
              "      <th></th>\n",
              "      <th></th>\n",
              "      <th></th>\n",
              "      <th></th>\n",
              "      <th></th>\n",
              "    </tr>\n",
              "  </thead>\n",
              "  <tbody>\n",
              "    <tr>\n",
              "      <th>I</th>\n",
              "      <td>11.0</td>\n",
              "      <td>9.0</td>\n",
              "      <td>3.316625</td>\n",
              "      <td>4.0</td>\n",
              "      <td>6.5</td>\n",
              "      <td>9.0</td>\n",
              "      <td>11.5</td>\n",
              "      <td>14.0</td>\n",
              "      <td>11.0</td>\n",
              "      <td>7.500909</td>\n",
              "      <td>2.031568</td>\n",
              "      <td>4.26</td>\n",
              "      <td>6.315</td>\n",
              "      <td>7.58</td>\n",
              "      <td>8.57</td>\n",
              "      <td>10.84</td>\n",
              "    </tr>\n",
              "    <tr>\n",
              "      <th>II</th>\n",
              "      <td>11.0</td>\n",
              "      <td>9.0</td>\n",
              "      <td>3.316625</td>\n",
              "      <td>4.0</td>\n",
              "      <td>6.5</td>\n",
              "      <td>9.0</td>\n",
              "      <td>11.5</td>\n",
              "      <td>14.0</td>\n",
              "      <td>11.0</td>\n",
              "      <td>7.500909</td>\n",
              "      <td>2.031657</td>\n",
              "      <td>3.10</td>\n",
              "      <td>6.695</td>\n",
              "      <td>8.14</td>\n",
              "      <td>8.95</td>\n",
              "      <td>9.26</td>\n",
              "    </tr>\n",
              "    <tr>\n",
              "      <th>III</th>\n",
              "      <td>11.0</td>\n",
              "      <td>9.0</td>\n",
              "      <td>3.316625</td>\n",
              "      <td>4.0</td>\n",
              "      <td>6.5</td>\n",
              "      <td>9.0</td>\n",
              "      <td>11.5</td>\n",
              "      <td>14.0</td>\n",
              "      <td>11.0</td>\n",
              "      <td>7.500000</td>\n",
              "      <td>2.030424</td>\n",
              "      <td>5.39</td>\n",
              "      <td>6.250</td>\n",
              "      <td>7.11</td>\n",
              "      <td>7.98</td>\n",
              "      <td>12.74</td>\n",
              "    </tr>\n",
              "    <tr>\n",
              "      <th>IV</th>\n",
              "      <td>11.0</td>\n",
              "      <td>9.0</td>\n",
              "      <td>3.316625</td>\n",
              "      <td>8.0</td>\n",
              "      <td>8.0</td>\n",
              "      <td>8.0</td>\n",
              "      <td>8.0</td>\n",
              "      <td>19.0</td>\n",
              "      <td>11.0</td>\n",
              "      <td>7.500909</td>\n",
              "      <td>2.030579</td>\n",
              "      <td>5.25</td>\n",
              "      <td>6.170</td>\n",
              "      <td>7.04</td>\n",
              "      <td>8.19</td>\n",
              "      <td>12.50</td>\n",
              "    </tr>\n",
              "  </tbody>\n",
              "</table>\n",
              "</div>\n",
              "      <button class=\"colab-df-convert\" onclick=\"convertToInteractive('df-d09a91af-5663-4bab-a62a-042a0fd901f1')\"\n",
              "              title=\"Convert this dataframe to an interactive table.\"\n",
              "              style=\"display:none;\">\n",
              "        \n",
              "  <svg xmlns=\"http://www.w3.org/2000/svg\" height=\"24px\"viewBox=\"0 0 24 24\"\n",
              "       width=\"24px\">\n",
              "    <path d=\"M0 0h24v24H0V0z\" fill=\"none\"/>\n",
              "    <path d=\"M18.56 5.44l.94 2.06.94-2.06 2.06-.94-2.06-.94-.94-2.06-.94 2.06-2.06.94zm-11 1L8.5 8.5l.94-2.06 2.06-.94-2.06-.94L8.5 2.5l-.94 2.06-2.06.94zm10 10l.94 2.06.94-2.06 2.06-.94-2.06-.94-.94-2.06-.94 2.06-2.06.94z\"/><path d=\"M17.41 7.96l-1.37-1.37c-.4-.4-.92-.59-1.43-.59-.52 0-1.04.2-1.43.59L10.3 9.45l-7.72 7.72c-.78.78-.78 2.05 0 2.83L4 21.41c.39.39.9.59 1.41.59.51 0 1.02-.2 1.41-.59l7.78-7.78 2.81-2.81c.8-.78.8-2.07 0-2.86zM5.41 20L4 18.59l7.72-7.72 1.47 1.35L5.41 20z\"/>\n",
              "  </svg>\n",
              "      </button>\n",
              "      \n",
              "  <style>\n",
              "    .colab-df-container {\n",
              "      display:flex;\n",
              "      flex-wrap:wrap;\n",
              "      gap: 12px;\n",
              "    }\n",
              "\n",
              "    .colab-df-convert {\n",
              "      background-color: #E8F0FE;\n",
              "      border: none;\n",
              "      border-radius: 50%;\n",
              "      cursor: pointer;\n",
              "      display: none;\n",
              "      fill: #1967D2;\n",
              "      height: 32px;\n",
              "      padding: 0 0 0 0;\n",
              "      width: 32px;\n",
              "    }\n",
              "\n",
              "    .colab-df-convert:hover {\n",
              "      background-color: #E2EBFA;\n",
              "      box-shadow: 0px 1px 2px rgba(60, 64, 67, 0.3), 0px 1px 3px 1px rgba(60, 64, 67, 0.15);\n",
              "      fill: #174EA6;\n",
              "    }\n",
              "\n",
              "    [theme=dark] .colab-df-convert {\n",
              "      background-color: #3B4455;\n",
              "      fill: #D2E3FC;\n",
              "    }\n",
              "\n",
              "    [theme=dark] .colab-df-convert:hover {\n",
              "      background-color: #434B5C;\n",
              "      box-shadow: 0px 1px 3px 1px rgba(0, 0, 0, 0.15);\n",
              "      filter: drop-shadow(0px 1px 2px rgba(0, 0, 0, 0.3));\n",
              "      fill: #FFFFFF;\n",
              "    }\n",
              "  </style>\n",
              "\n",
              "      <script>\n",
              "        const buttonEl =\n",
              "          document.querySelector('#df-d09a91af-5663-4bab-a62a-042a0fd901f1 button.colab-df-convert');\n",
              "        buttonEl.style.display =\n",
              "          google.colab.kernel.accessAllowed ? 'block' : 'none';\n",
              "\n",
              "        async function convertToInteractive(key) {\n",
              "          const element = document.querySelector('#df-d09a91af-5663-4bab-a62a-042a0fd901f1');\n",
              "          const dataTable =\n",
              "            await google.colab.kernel.invokeFunction('convertToInteractive',\n",
              "                                                     [key], {});\n",
              "          if (!dataTable) return;\n",
              "\n",
              "          const docLinkHtml = 'Like what you see? Visit the ' +\n",
              "            '<a target=\"_blank\" href=https://colab.research.google.com/notebooks/data_table.ipynb>data table notebook</a>'\n",
              "            + ' to learn more about interactive tables.';\n",
              "          element.innerHTML = '';\n",
              "          dataTable['output_type'] = 'display_data';\n",
              "          await google.colab.output.renderOutput(dataTable, element);\n",
              "          const docLink = document.createElement('div');\n",
              "          docLink.innerHTML = docLinkHtml;\n",
              "          element.appendChild(docLink);\n",
              "        }\n",
              "      </script>\n",
              "    </div>\n",
              "  </div>\n",
              "  "
            ]
          },
          "metadata": {},
          "execution_count": 23
        }
      ]
    },
    {
      "cell_type": "code",
      "source": [
        "sns.scatterplot(data=anscombe, x='x', y='y', hue='dataset', palette=\"Greys\")"
      ],
      "metadata": {
        "colab": {
          "base_uri": "https://localhost:8080/",
          "height": 296
        },
        "id": "qCrenngMc-i-",
        "outputId": "d9343650-0d71-4b0b-9023-6e1ec44b49ab"
      },
      "execution_count": null,
      "outputs": [
        {
          "output_type": "execute_result",
          "data": {
            "text/plain": [
              "<matplotlib.axes._subplots.AxesSubplot at 0x7f83bd262950>"
            ]
          },
          "metadata": {},
          "execution_count": 24
        },
        {
          "output_type": "display_data",
          "data": {
            "text/plain": [
              "<Figure size 432x288 with 1 Axes>"
            ],
            "image/png": "[encoded data removed]"
          },
          "metadata": {
            "needs_background": "light"
          }
        }
      ]
    },
    {
      "cell_type": "code",
      "source": [
        "# Linear regression of each anscombe dataset\n",
        "sns.lmplot(\n",
        "    data=anscombe, x=\"x\", y=\"y\", col=\"dataset\", hue=\"dataset\",\n",
        "    col_wrap=4, palette=\"Greys\", ci=None,\n",
        "    height=3, scatter_kws={\"s\": 50, \"alpha\": 1}\n",
        ")"
      ],
      "metadata": {
        "colab": {
          "base_uri": "https://localhost:8080/",
          "height": 242
        },
        "id": "JgcbvGVveEdp",
        "outputId": "d772f4fc-d98f-426f-e626-ae3f30367cac"
      },
      "execution_count": null,
      "outputs": [
        {
          "output_type": "execute_result",
          "data": {
            "text/plain": [
              "<seaborn.axisgrid.FacetGrid at 0x7f83bd2bdc90>"
            ]
          },
          "metadata": {},
          "execution_count": 25
        },
        {
          "output_type": "display_data",
          "data": {
            "text/plain": [
              "<Figure size 864x216 with 4 Axes>"
            ],
            "image/png": "[encoded data removed]"
          },
          "metadata": {
            "needs_background": "light"
          }
        }
      ]
    },
    {
      "cell_type": "code",
      "source": [
        "a1=anscombe[anscombe[\"dataset\"]==\"I\"]\n",
        "a2=anscombe[anscombe[\"dataset\"]==\"II\"]\n",
        "a3=anscombe[anscombe[\"dataset\"]==\"III\"]\n",
        "a4=anscombe[anscombe[\"dataset\"]==\"IV\"]"
      ],
      "metadata": {
        "id": "xClJ8fQZc-nL"
      },
      "execution_count": null,
      "outputs": []
    },
    {
      "cell_type": "code",
      "source": [
        "slope1, intercept1, r1, p1, std_err1 = stats.linregress(a1[\"x\"],a1[\"y\"])\n",
        "slope2, intercept2, r2, p2, std_err2 = stats.linregress(a2[\"x\"],a2[\"y\"])\n",
        "slope3, intercept3, r3, p3, std_err3 = stats.linregress(a3[\"x\"],a3[\"y\"])\n",
        "slope4, intercept4, r4, p4, std_err4 = stats.linregress(a4[\"x\"],a4[\"y\"])"
      ],
      "metadata": {
        "id": "opSs3zF0iJdR"
      },
      "execution_count": null,
      "outputs": []
    },
    {
      "cell_type": "code",
      "source": [
        "# slope, intercept, r, p and standard error of each curve is almost the same for each different distribution"
      ],
      "metadata": {
        "id": "IcY1VkdQkDI4"
      },
      "execution_count": null,
      "outputs": []
    },
    {
      "cell_type": "code",
      "source": [
        "slope1, intercept1, r1, p1, std_err1"
      ],
      "metadata": {
        "colab": {
          "base_uri": "https://localhost:8080/"
        },
        "id": "rQaB3RnEjIDk",
        "outputId": "b9bd25af-5c6e-41c9-947d-43119cde2fdf"
      },
      "execution_count": null,
      "outputs": [
        {
          "output_type": "execute_result",
          "data": {
            "text/plain": [
              "(0.5000909090909091,\n",
              " 3.0000909090909103,\n",
              " 0.8164205163448399,\n",
              " 0.00216962887307879,\n",
              " 0.11790550059563408)"
            ]
          },
          "metadata": {},
          "execution_count": 29
        }
      ]
    },
    {
      "cell_type": "code",
      "source": [
        "slope2, intercept2, r2, p2, std_err2"
      ],
      "metadata": {
        "colab": {
          "base_uri": "https://localhost:8080/"
        },
        "id": "c_PFndB8jgaW",
        "outputId": "c65981d9-d57d-419b-ccc1-25d188a5dd09"
      },
      "execution_count": null,
      "outputs": [
        {
          "output_type": "execute_result",
          "data": {
            "text/plain": [
              "(0.5000000000000001,\n",
              " 3.000909090909089,\n",
              " 0.816236506000243,\n",
              " 0.0021788162369107845,\n",
              " 0.11796374596764074)"
            ]
          },
          "metadata": {},
          "execution_count": 30
        }
      ]
    },
    {
      "cell_type": "code",
      "source": [
        "slope3, intercept3, r3, p3, std_err3"
      ],
      "metadata": {
        "colab": {
          "base_uri": "https://localhost:8080/"
        },
        "id": "oWn0ZTapjyQd",
        "outputId": "6b410366-d10e-4cfc-af3d-1960cfc756c4"
      },
      "execution_count": null,
      "outputs": [
        {
          "output_type": "execute_result",
          "data": {
            "text/plain": [
              "(0.4997272727272729,\n",
              " 3.002454545454544,\n",
              " 0.8162867394895984,\n",
              " 0.002176305279228015,\n",
              " 0.11787766222100221)"
            ]
          },
          "metadata": {},
          "execution_count": 31
        }
      ]
    },
    {
      "cell_type": "code",
      "source": [
        "slope4, intercept4, r4, p4, std_err4"
      ],
      "metadata": {
        "colab": {
          "base_uri": "https://localhost:8080/"
        },
        "id": "iVzo-DqLjyiG",
        "outputId": "8d43f78f-e4df-425c-9819-23a0a694dfdc"
      },
      "execution_count": null,
      "outputs": [
        {
          "output_type": "execute_result",
          "data": {
            "text/plain": [
              "(0.4999090909090909,\n",
              " 3.0017272727272726,\n",
              " 0.8165214368885028,\n",
              " 0.002164602347197222,\n",
              " 0.11781894172968553)"
            ]
          },
          "metadata": {},
          "execution_count": 32
        }
      ]
    },
    {
      "cell_type": "code",
      "source": [
        "# 2. Multiple regression ( standard, hierarchical, setwise, stepwise )"
      ],
      "metadata": {
        "id": "5IaQW6eGmRz5"
      },
      "execution_count": null,
      "outputs": []
    },
    {
      "cell_type": "code",
      "source": [
        "a1 = df[['Tenure', 'HourSpendOnApp','Churn']]\n",
        "b1 = df['CashbackAmount']\n",
        "\n",
        "regr = linear_model.LinearRegression()\n",
        "regr.fit(a1, b1)\n",
        "\n",
        "#predict the Cashback for 4 HourSpendOnApp and Tenure 2 and Churn flag NO in months:\n",
        "predictedCashback = regr.predict([[2, 4, 0]])\n",
        "\n",
        "print(predictedCashback)"
      ],
      "metadata": {
        "colab": {
          "base_uri": "https://localhost:8080/"
        },
        "id": "ApJG7LkAmR5V",
        "outputId": "531353b9-d5c9-4040-adf0-729659b6444e"
      },
      "execution_count": null,
      "outputs": [
        {
          "output_type": "stream",
          "name": "stdout",
          "text": [
            "[161.95349488]\n"
          ]
        },
        {
          "output_type": "stream",
          "name": "stderr",
          "text": [
            "/usr/local/lib/python3.7/dist-packages/sklearn/base.py:451: UserWarning: X does not have valid feature names, but LinearRegression was fitted with feature names\n",
            "  \"X does not have valid feature names, but\"\n"
          ]
        }
      ]
    },
    {
      "cell_type": "code",
      "source": [
        "c1 = pd.DataFrame(regr.predict(a1), columns = ['Predicted_cashback'])"
      ],
      "metadata": {
        "id": "zd6Ym7J5mvKx"
      },
      "execution_count": null,
      "outputs": []
    },
    {
      "cell_type": "code",
      "source": [
        "b2 = pd.DataFrame(b1, columns = ['CashbackAmount'])"
      ],
      "metadata": {
        "id": "oWzFHY1EtGbA"
      },
      "execution_count": null,
      "outputs": []
    },
    {
      "cell_type": "code",
      "source": [
        "b2"
      ],
      "metadata": {
        "colab": {
          "base_uri": "https://localhost:8080/",
          "height": 419
        },
        "id": "svN5mwaMt9av",
        "outputId": "84e9b421-088c-4b90-b613-49cff621f0e3"
      },
      "execution_count": null,
      "outputs": [
        {
          "output_type": "execute_result",
          "data": {
            "text/plain": [
              "      CashbackAmount\n",
              "0             159.93\n",
              "1             120.90\n",
              "2             120.28\n",
              "3             134.07\n",
              "4             129.60\n",
              "...              ...\n",
              "5625          150.71\n",
              "5626          224.91\n",
              "5627          186.42\n",
              "5628          178.90\n",
              "5629          169.04\n",
              "\n",
              "[5630 rows x 1 columns]"
            ],
            "text/html": [
              "\n",
              "  <div id=\"df-838d8ff8-a383-4ebd-b137-5edd59fc1e71\">\n",
              "    <div class=\"colab-df-container\">\n",
              "      <div>\n",
              "<style scoped>\n",
              "    .dataframe tbody tr th:only-of-type {\n",
              "        vertical-align: middle;\n",
              "    }\n",
              "\n",
              "    .dataframe tbody tr th {\n",
              "        vertical-align: top;\n",
              "    }\n",
              "\n",
              "    .dataframe thead th {\n",
              "        text-align: right;\n",
              "    }\n",
              "</style>\n",
              "<table border=\"1\" class=\"dataframe\">\n",
              "  <thead>\n",
              "    <tr style=\"text-align: right;\">\n",
              "      <th></th>\n",
              "      <th>CashbackAmount</th>\n",
              "    </tr>\n",
              "  </thead>\n",
              "  <tbody>\n",
              "    <tr>\n",
              "      <th>0</th>\n",
              "      <td>159.93</td>\n",
              "    </tr>\n",
              "    <tr>\n",
              "      <th>1</th>\n",
              "      <td>120.90</td>\n",
              "    </tr>\n",
              "    <tr>\n",
              "      <th>2</th>\n",
              "      <td>120.28</td>\n",
              "    </tr>\n",
              "    <tr>\n",
              "      <th>3</th>\n",
              "      <td>134.07</td>\n",
              "    </tr>\n",
              "    <tr>\n",
              "      <th>4</th>\n",
              "      <td>129.60</td>\n",
              "    </tr>\n",
              "    <tr>\n",
              "      <th>...</th>\n",
              "      <td>...</td>\n",
              "    </tr>\n",
              "    <tr>\n",
              "      <th>5625</th>\n",
              "      <td>150.71</td>\n",
              "    </tr>\n",
              "    <tr>\n",
              "      <th>5626</th>\n",
              "      <td>224.91</td>\n",
              "    </tr>\n",
              "    <tr>\n",
              "      <th>5627</th>\n",
              "      <td>186.42</td>\n",
              "    </tr>\n",
              "    <tr>\n",
              "      <th>5628</th>\n",
              "      <td>178.90</td>\n",
              "    </tr>\n",
              "    <tr>\n",
              "      <th>5629</th>\n",
              "      <td>169.04</td>\n",
              "    </tr>\n",
              "  </tbody>\n",
              "</table>\n",
              "<p>5630 rows × 1 columns</p>\n",
              "</div>\n",
              "      <button class=\"colab-df-convert\" onclick=\"convertToInteractive('df-838d8ff8-a383-4ebd-b137-5edd59fc1e71')\"\n",
              "              title=\"Convert this dataframe to an interactive table.\"\n",
              "              style=\"display:none;\">\n",
              "        \n",
              "  <svg xmlns=\"http://www.w3.org/2000/svg\" height=\"24px\"viewBox=\"0 0 24 24\"\n",
              "       width=\"24px\">\n",
              "    <path d=\"M0 0h24v24H0V0z\" fill=\"none\"/>\n",
              "    <path d=\"M18.56 5.44l.94 2.06.94-2.06 2.06-.94-2.06-.94-.94-2.06-.94 2.06-2.06.94zm-11 1L8.5 8.5l.94-2.06 2.06-.94-2.06-.94L8.5 2.5l-.94 2.06-2.06.94zm10 10l.94 2.06.94-2.06 2.06-.94-2.06-.94-.94-2.06-.94 2.06-2.06.94z\"/><path d=\"M17.41 7.96l-1.37-1.37c-.4-.4-.92-.59-1.43-.59-.52 0-1.04.2-1.43.59L10.3 9.45l-7.72 7.72c-.78.78-.78 2.05 0 2.83L4 21.41c.39.39.9.59 1.41.59.51 0 1.02-.2 1.41-.59l7.78-7.78 2.81-2.81c.8-.78.8-2.07 0-2.86zM5.41 20L4 18.59l7.72-7.72 1.47 1.35L5.41 20z\"/>\n",
              "  </svg>\n",
              "      </button>\n",
              "      \n",
              "  <style>\n",
              "    .colab-df-container {\n",
              "      display:flex;\n",
              "      flex-wrap:wrap;\n",
              "      gap: 12px;\n",
              "    }\n",
              "\n",
              "    .colab-df-convert {\n",
              "      background-color: #E8F0FE;\n",
              "      border: none;\n",
              "      border-radius: 50%;\n",
              "      cursor: pointer;\n",
              "      display: none;\n",
              "      fill: #1967D2;\n",
              "      height: 32px;\n",
              "      padding: 0 0 0 0;\n",
              "      width: 32px;\n",
              "    }\n",
              "\n",
              "    .colab-df-convert:hover {\n",
              "      background-color: #E2EBFA;\n",
              "      box-shadow: 0px 1px 2px rgba(60, 64, 67, 0.3), 0px 1px 3px 1px rgba(60, 64, 67, 0.15);\n",
              "      fill: #174EA6;\n",
              "    }\n",
              "\n",
              "    [theme=dark] .colab-df-convert {\n",
              "      background-color: #3B4455;\n",
              "      fill: #D2E3FC;\n",
              "    }\n",
              "\n",
              "    [theme=dark] .colab-df-convert:hover {\n",
              "      background-color: #434B5C;\n",
              "      box-shadow: 0px 1px 3px 1px rgba(0, 0, 0, 0.15);\n",
              "      filter: drop-shadow(0px 1px 2px rgba(0, 0, 0, 0.3));\n",
              "      fill: #FFFFFF;\n",
              "    }\n",
              "  </style>\n",
              "\n",
              "      <script>\n",
              "        const buttonEl =\n",
              "          document.querySelector('#df-838d8ff8-a383-4ebd-b137-5edd59fc1e71 button.colab-df-convert');\n",
              "        buttonEl.style.display =\n",
              "          google.colab.kernel.accessAllowed ? 'block' : 'none';\n",
              "\n",
              "        async function convertToInteractive(key) {\n",
              "          const element = document.querySelector('#df-838d8ff8-a383-4ebd-b137-5edd59fc1e71');\n",
              "          const dataTable =\n",
              "            await google.colab.kernel.invokeFunction('convertToInteractive',\n",
              "                                                     [key], {});\n",
              "          if (!dataTable) return;\n",
              "\n",
              "          const docLinkHtml = 'Like what you see? Visit the ' +\n",
              "            '<a target=\"_blank\" href=https://colab.research.google.com/notebooks/data_table.ipynb>data table notebook</a>'\n",
              "            + ' to learn more about interactive tables.';\n",
              "          element.innerHTML = '';\n",
              "          dataTable['output_type'] = 'display_data';\n",
              "          await google.colab.output.renderOutput(dataTable, element);\n",
              "          const docLink = document.createElement('div');\n",
              "          docLink.innerHTML = docLinkHtml;\n",
              "          element.appendChild(docLink);\n",
              "        }\n",
              "      </script>\n",
              "    </div>\n",
              "  </div>\n",
              "  "
            ]
          },
          "metadata": {},
          "execution_count": 37
        }
      ]
    },
    {
      "cell_type": "code",
      "source": [
        "Multiple = [ a1[\"Tenure\"],b2[\"CashbackAmount\"],c1[\"Predicted_cashback\"] ]"
      ],
      "metadata": {
        "id": "r-HGMNTQo1bG"
      },
      "execution_count": null,
      "outputs": []
    },
    {
      "cell_type": "code",
      "source": [
        "headers = [\"Tenure\", \"CashbackAmount\", \"Predicted_cashback\"]\n",
        "Multiple = pd.concat(Multiple, axis=1, keys=headers)"
      ],
      "metadata": {
        "id": "hXhtk1yqvIho"
      },
      "execution_count": null,
      "outputs": []
    },
    {
      "cell_type": "code",
      "source": [
        "Multiple2 =Multiple.groupby(['Tenure']).mean()"
      ],
      "metadata": {
        "id": "SbgOudsUo1hD"
      },
      "execution_count": null,
      "outputs": []
    },
    {
      "cell_type": "code",
      "source": [
        "Multiple3 = pd.DataFrame(Multiple2, columns=[\"CashbackAmount\", \"Predicted_cashback\"])"
      ],
      "metadata": {
        "id": "6og3_zI0vRCd"
      },
      "execution_count": null,
      "outputs": []
    },
    {
      "cell_type": "code",
      "source": [
        "Multiple3"
      ],
      "metadata": {
        "id": "-sdFclSJvRIP"
      },
      "execution_count": null,
      "outputs": []
    },
    {
      "cell_type": "code",
      "source": [
        "Multiple3.plot(style={'CashbackAmount': ':k', 'Predicted_cashback': '--k'}, figsize=(9, 5))"
      ],
      "metadata": {
        "colab": {
          "base_uri": "https://localhost:8080/",
          "height": 351
        },
        "id": "kSHZakEUvqvP",
        "outputId": "a7075af4-2371-4129-c7f0-41707c8dd4e9"
      },
      "execution_count": null,
      "outputs": [
        {
          "output_type": "execute_result",
          "data": {
            "text/plain": [
              "<matplotlib.axes._subplots.AxesSubplot at 0x7f83b9d7c990>"
            ]
          },
          "metadata": {},
          "execution_count": 43
        },
        {
          "output_type": "display_data",
          "data": {
            "text/plain": [
              "<Figure size 648x360 with 1 Axes>"
            ],
            "image/png": "[encoded data removed]"
          },
          "metadata": {
            "needs_background": "light"
          }
        }
      ]
    },
    {
      "cell_type": "code",
      "source": [
        "# 3. Polynomial regression"
      ],
      "metadata": {
        "id": "k99Hh0kymR8a"
      },
      "execution_count": null,
      "outputs": []
    },
    {
      "cell_type": "code",
      "source": [
        "Polynomial = [ df[\"Tenure\"],df[\"CashbackAmount\"]]"
      ],
      "metadata": {
        "id": "rFgbeheb_yrL"
      },
      "execution_count": null,
      "outputs": []
    },
    {
      "cell_type": "code",
      "source": [
        "headers = [\"Tenure\", \"CashbackAmount\"]\n",
        "Polynomial = pd.concat(Polynomial, axis=1, keys=headers)"
      ],
      "metadata": {
        "id": "5SKKcCZ04xvi"
      },
      "execution_count": null,
      "outputs": []
    },
    {
      "cell_type": "code",
      "source": [
        "Polynomial2 =Polynomial.groupby(['Tenure']).mean().reset_index()"
      ],
      "metadata": {
        "id": "56ZVAbqB43iD"
      },
      "execution_count": null,
      "outputs": []
    },
    {
      "cell_type": "code",
      "source": [
        "Polynomial2"
      ],
      "metadata": {
        "id": "HI7-0L825njw"
      },
      "execution_count": null,
      "outputs": []
    },
    {
      "cell_type": "code",
      "source": [
        "import pandas"
      ],
      "metadata": {
        "id": "Zl7mw3HCH2Dw"
      },
      "execution_count": null,
      "outputs": []
    },
    {
      "cell_type": "code",
      "source": [
        "a = Polynomial2[['Tenure']]\n",
        "b = Polynomial2[['CashbackAmount']]"
      ],
      "metadata": {
        "id": "5Edog1fvJEQR"
      },
      "execution_count": null,
      "outputs": []
    },
    {
      "cell_type": "code",
      "source": [
        "# Fitting Linear Regression to the dataset\n",
        "lin_reg = LinearRegression()\n",
        "lin_reg.fit(a, b)\n",
        "# Fitting Polynomial Regression to the dataset\n",
        "poly_reg = PolynomialFeatures(degree=4)\n",
        "X_poly = poly_reg.fit_transform(a)\n",
        "pol_reg = LinearRegression()\n",
        "pol_reg.fit(X_poly, b)\n",
        "\n",
        "# Visualizing the Polymonial Regression results\n",
        "def viz_polymonial():\n",
        "    plt.scatter(a, b, color='tan')\n",
        "    plt.plot(a, pol_reg.predict(poly_reg.fit_transform(a)), color='grey')\n",
        "    plt.title('Polynomial Regression')\n",
        "    plt.xlabel('Tenure')\n",
        "    plt.ylabel('Cashback')\n",
        "    plt.show()\n",
        "    return\n",
        "viz_polymonial()"
      ],
      "metadata": {
        "colab": {
          "base_uri": "https://localhost:8080/",
          "height": 295
        },
        "id": "rkbJyQDjmR_a",
        "outputId": "8e47c6ee-99a3-48ec-f505-c689b1d31903"
      },
      "execution_count": null,
      "outputs": [
        {
          "output_type": "display_data",
          "data": {
            "text/plain": [
              "<Figure size 432x288 with 1 Axes>"
            ],
            "image/png": "[encoded data removed]"
          },
          "metadata": {
            "needs_background": "light"
          }
        }
      ]
    },
    {
      "cell_type": "code",
      "source": [
        "poly = pol_reg.predict(poly_reg.fit_transform(a))"
      ],
      "metadata": {
        "id": "MOuCnvjFM_-n"
      },
      "execution_count": null,
      "outputs": []
    },
    {
      "cell_type": "code",
      "source": [
        "poly1 = pd.DataFrame(poly, columns=[\"poly\"])"
      ],
      "metadata": {
        "id": "H0yAMwg0L9dC"
      },
      "execution_count": null,
      "outputs": []
    },
    {
      "cell_type": "code",
      "source": [
        "poly1"
      ],
      "metadata": {
        "id": "0biK6uxGNn9q"
      },
      "execution_count": null,
      "outputs": []
    },
    {
      "cell_type": "code",
      "source": [
        "# 4. Logaritmic regression"
      ],
      "metadata": {
        "id": "1AcGfZvamSEz"
      },
      "execution_count": null,
      "outputs": []
    },
    {
      "cell_type": "code",
      "source": [
        "# count of customer IDs in each Tenure is somewhat suitable for logaritmic curve presentation\n",
        "# before we remove outliers we can see that the majority of NOT churned /active/ customers is in the first 30 tenures\n",
        "# logaritmic transformation for linear regression\n",
        "df1 = pd.DataFrame(df,columns = ['Tenure', 'Churn'])\n",
        "df2 = df1[df1['Churn']== 0]\n",
        "df3 =df2.groupby(['Tenure']).count().reset_index()\n",
        "df3"
      ],
      "metadata": {
        "id": "kptnTYuHVVp0"
      },
      "execution_count": null,
      "outputs": []
    },
    {
      "cell_type": "code",
      "source": [
        "f1 = df3['Tenure'] # x axis, horizontal coordinates, grouped tenures\n",
        "f2 = df3['Churn'] # y axis, vertical coordinates, count of NOT Churned Customer IDs\n",
        "\n",
        "# Convert data frames to array\n",
        "f1_data = np.array(f1) \n",
        "f2_data = np.array(f2)     \n",
        "  \n",
        "# Do log\n",
        "f1log_data = np.log(f1_data.reshape(-1,1)) \n",
        "f2log_data = np.log(f2_data.reshape(-1,1))\n",
        "\n",
        "plt.scatter(f1_data, f2_data, c =\"black\")\n",
        "# To show the plot\n",
        "plt.show()"
      ],
      "metadata": {
        "colab": {
          "base_uri": "https://localhost:8080/",
          "height": 319
        },
        "id": "P3cVKBVnD_TQ",
        "outputId": "5af7abf6-c810-45c4-b9bd-cc443dd6b507"
      },
      "execution_count": null,
      "outputs": [
        {
          "output_type": "stream",
          "name": "stderr",
          "text": [
            "/usr/local/lib/python3.7/dist-packages/ipykernel_launcher.py:9: RuntimeWarning: divide by zero encountered in log\n",
            "  if __name__ == '__main__':\n"
          ]
        },
        {
          "output_type": "display_data",
          "data": {
            "text/plain": [
              "<Figure size 432x288 with 1 Axes>"
            ],
            "image/png": "[encoded data removed]"
          },
          "metadata": {
            "needs_background": "light"
          }
        }
      ]
    },
    {
      "cell_type": "code",
      "source": [
        "from numpy import inf\n",
        "f1log_data[f1log_data == -inf] = 0\n",
        "f2log_data[f2log_data == -inf] = 0\n",
        "f1log_data[f1log_data == inf] = 0\n",
        "f2log_data[f2log_data == inf] = 0\n"
      ],
      "metadata": {
        "id": "w9pxsMp2cAdT"
      },
      "execution_count": null,
      "outputs": []
    },
    {
      "cell_type": "code",
      "source": [
        "y_pred_log= LinearRegression()\n",
        "y_pred_log.fit(f1log_data,f2log_data)"
      ],
      "metadata": {
        "colab": {
          "base_uri": "https://localhost:8080/"
        },
        "id": "maWzwsykaX9_",
        "outputId": "dfe99d7c-5235-4825-dccd-4ae5c19eb861"
      },
      "execution_count": null,
      "outputs": [
        {
          "output_type": "execute_result",
          "data": {
            "text/plain": [
              "LinearRegression()"
            ]
          },
          "metadata": {},
          "execution_count": 60
        }
      ]
    },
    {
      "cell_type": "code",
      "source": [
        "print(\"Intercept value of Model is \" ,y_pred_log.intercept_)\n",
        "print(\"Co-efficient Value of Log Model is : \", y_pred_log.coef_)"
      ],
      "metadata": {
        "colab": {
          "base_uri": "https://localhost:8080/"
        },
        "id": "rGjtT3thXVYE",
        "outputId": "a2b9c95f-55a7-4024-a41e-b2320ab25f01"
      },
      "execution_count": null,
      "outputs": [
        {
          "output_type": "stream",
          "name": "stdout",
          "text": [
            "Intercept value of Model is  [7.16627909]\n",
            "Co-efficient Value of Log Model is :  [[-1.09852851]]\n"
          ]
        }
      ]
    },
    {
      "cell_type": "code",
      "source": [
        "Log = pd.DataFrame(Linear2, columns=[\"CashbackAmount\"])"
      ],
      "metadata": {
        "id": "qT6OFwly3y39"
      },
      "execution_count": null,
      "outputs": []
    },
    {
      "cell_type": "code",
      "source": [
        "Log['Log2Cashback'] = np.log2(Log['CashbackAmount'])\n",
        "Log['Log10Cashback'] = np.log10(Log['CashbackAmount'])\n",
        "Log['LogNatCashback'] = np.log(Log['CashbackAmount'])"
      ],
      "metadata": {
        "id": "eaGpimk73zAk"
      },
      "execution_count": null,
      "outputs": []
    },
    {
      "cell_type": "code",
      "source": [
        "Log"
      ],
      "metadata": {
        "id": "0vzBQCKL3tyj"
      },
      "execution_count": null,
      "outputs": []
    },
    {
      "cell_type": "code",
      "source": [
        "Log = Log.drop('CashbackAmount', axis=1, errors='ignore')\n",
        "Log.plot(style={'Log2Cashback': ':k', 'Log10Cashback': '--k', 'LogNatCashback': '-k'}, figsize=(9, 5))"
      ],
      "metadata": {
        "colab": {
          "base_uri": "https://localhost:8080/",
          "height": 351
        },
        "id": "xg5Wc3UG9n2Z",
        "outputId": "018fe466-7377-4f1d-f052-81f1bde6de1a"
      },
      "execution_count": null,
      "outputs": [
        {
          "output_type": "execute_result",
          "data": {
            "text/plain": [
              "<matplotlib.axes._subplots.AxesSubplot at 0x7f83b9d92490>"
            ]
          },
          "metadata": {},
          "execution_count": 65
        },
        {
          "output_type": "display_data",
          "data": {
            "text/plain": [
              "<Figure size 648x360 with 1 Axes>"
            ],
            "image/png": "[encoded data removed]"
          },
          "metadata": {
            "needs_background": "light"
          }
        }
      ]
    },
    {
      "cell_type": "code",
      "source": [
        "# 5. Exponential regression"
      ],
      "metadata": {
        "id": "8B_yMncDX-2-"
      },
      "execution_count": null,
      "outputs": []
    },
    {
      "cell_type": "code",
      "source": [
        "Exp = pd.DataFrame(Linear2, columns=[\"CashbackAmount\"])"
      ],
      "metadata": {
        "id": "4eRq03evxSaI"
      },
      "execution_count": null,
      "outputs": []
    },
    {
      "cell_type": "code",
      "source": [
        "y = Exp[['CashbackAmount']]"
      ],
      "metadata": {
        "id": "_jlbMa1wxSv9"
      },
      "execution_count": null,
      "outputs": []
    },
    {
      "cell_type": "code",
      "source": [
        "x =Exp.groupby(['Tenure']).mean().reset_index()"
      ],
      "metadata": {
        "id": "CzZM9pZ4z-5F"
      },
      "execution_count": null,
      "outputs": []
    },
    {
      "cell_type": "code",
      "source": [
        "x = x['Tenure']"
      ],
      "metadata": {
        "id": "QsfrDsL3zItl"
      },
      "execution_count": null,
      "outputs": []
    },
    {
      "cell_type": "code",
      "source": [
        "x"
      ],
      "metadata": {
        "id": "SshhPRMz0Ibm"
      },
      "execution_count": null,
      "outputs": []
    },
    {
      "cell_type": "code",
      "source": [
        "# Fit the unweighted polynomial degree 1 linear  to the data, other possibilities would be to plot curve fit or weighted polynomial degree\n",
        "fitu = np.polyfit(x, np.log(y), 1)\n",
        "\n",
        "# View the output of the model\n",
        "print(fitu)\n",
        "\n",
        "# Convert the polynomial back into an exponential\n",
        "a = np.exp(fitu[1])\n",
        "b = fitu[0]\n",
        "x_fitted_polyfit = np.linspace(np.min(x), np.max(x), 100)\n",
        "y_fitted_polyfit = a * np.exp(b * x_fitted_polyfit)"
      ],
      "metadata": {
        "id": "xxqklf_hX-9a",
        "colab": {
          "base_uri": "https://localhost:8080/"
        },
        "outputId": "1a9e8a92-09b4-4aa9-a2ff-50c9be10ff9e"
      },
      "execution_count": null,
      "outputs": [
        {
          "output_type": "stream",
          "name": "stdout",
          "text": [
            "[[0.00720922]\n",
            " [5.12912   ]]\n"
          ]
        }
      ]
    },
    {
      "cell_type": "code",
      "source": [
        "# Plot Unweighted exponential curve\n",
        "ax = plt.axes()\n",
        "ax.scatter(x, y, label='Raw data', color='tan')\n",
        "ax.plot(x_fitted_polyfit, y_fitted_polyfit, 'k')"
      ],
      "metadata": {
        "colab": {
          "base_uri": "https://localhost:8080/",
          "height": 282
        },
        "id": "tgomSL3V045V",
        "outputId": "276b0c92-251d-4bc3-b82b-f388c02bfbb4"
      },
      "execution_count": null,
      "outputs": [
        {
          "output_type": "execute_result",
          "data": {
            "text/plain": [
              "[<matplotlib.lines.Line2D at 0x7f83b9b80e90>]"
            ]
          },
          "metadata": {},
          "execution_count": 73
        },
        {
          "output_type": "display_data",
          "data": {
            "text/plain": [
              "<Figure size 432x288 with 1 Axes>"
            ],
            "image/png": "[encoded data removed]"
          },
          "metadata": {
            "needs_background": "light"
          }
        }
      ]
    },
    {
      "cell_type": "code",
      "source": [
        "exp = pd.DataFrame(y_fitted_polyfit, columns=[\"ExpCashback\"])"
      ],
      "metadata": {
        "id": "jeRX8Y4205Ap"
      },
      "execution_count": null,
      "outputs": []
    },
    {
      "cell_type": "code",
      "source": [
        "exp"
      ],
      "metadata": {
        "id": "0mxgcppN5yzP"
      },
      "execution_count": null,
      "outputs": []
    },
    {
      "cell_type": "code",
      "source": [
        "# 6. Quantile regression"
      ],
      "metadata": {
        "id": "nv_DJsTimSQX"
      },
      "execution_count": null,
      "outputs": []
    },
    {
      "cell_type": "code",
      "source": [
        "data = pd.DataFrame(data = np.hstack([x, y]), columns = [\"x\", \"y\"]) \n",
        " \n",
        "import statsmodels.formula.api as smf   \n",
        "mod = smf.quantreg('y ~ x', data) \n",
        "res = mod.fit(q=.5) \n",
        "print(res.summary())"
      ],
      "metadata": {
        "colab": {
          "base_uri": "https://localhost:8080/"
        },
        "id": "pv3lGLkgXOtu",
        "outputId": "957debc7-2723-4606-caf2-318f34f8cca4"
      },
      "execution_count": 169,
      "outputs": [
        {
          "output_type": "stream",
          "name": "stdout",
          "text": [
            "                         QuantReg Regression Results                          \n",
            "==============================================================================\n",
            "Dep. Variable:                      y   Pseudo R-squared:               0.4926\n",
            "Model:                       QuantReg   Bandwidth:                       14.64\n",
            "Method:                 Least Squares   Sparsity:                        30.65\n",
            "Date:                Mon, 26 Sep 2022   No. Observations:                   36\n",
            "Time:                        10:35:30   Df Residuals:                       34\n",
            "                                        Df Model:                            1\n",
            "==============================================================================\n",
            "                 coef    std err          t      P>|t|      [0.025      0.975]\n",
            "------------------------------------------------------------------------------\n",
            "Intercept    156.8460      4.182     37.505      0.000     148.347     165.345\n",
            "x              2.4083      0.166     14.504      0.000       2.071       2.746\n",
            "==============================================================================\n"
          ]
        }
      ]
    },
    {
      "cell_type": "code",
      "source": [
        "## Build the model for other quantiles, bins by 0.1\n",
        "quantiles = np.arange(0.1,1,0.1) \n",
        "print(quantiles)  \n",
        "models = [] \n",
        "params = []  "
      ],
      "metadata": {
        "colab": {
          "base_uri": "https://localhost:8080/"
        },
        "id": "trZNPWkTWipi",
        "outputId": "d794fc3e-5728-4d11-b48b-7c974d729a8b"
      },
      "execution_count": 181,
      "outputs": [
        {
          "output_type": "stream",
          "name": "stdout",
          "text": [
            "[0.1 0.2 0.3 0.4 0.5 0.6 0.7 0.8 0.9]\n"
          ]
        }
      ]
    },
    {
      "cell_type": "code",
      "source": [
        "for qt in quantiles:  \n",
        "  print(qt)  \n",
        "  res = mod.fit(q = qt )    \n",
        "  models.append(res)    \n",
        "  params.append([qt, res.params['Intercept'], res.params['x']] )\n",
        "\n",
        "params = pd.DataFrame(data = params, columns = ['qt','intercept','x_coef'])  \n",
        "print(params)"
      ],
      "metadata": {
        "colab": {
          "base_uri": "https://localhost:8080/"
        },
        "id": "C0NHcC9AWsld",
        "outputId": "b3e223c2-ee34-407a-ad8b-f6a40a62b144"
      },
      "execution_count": 182,
      "outputs": [
        {
          "output_type": "stream",
          "name": "stdout",
          "text": [
            "0.1\n",
            "0.2\n",
            "0.30000000000000004\n",
            "0.4\n",
            "0.5\n",
            "0.6\n",
            "0.7000000000000001\n",
            "0.8\n",
            "0.9\n",
            "    qt   intercept    x_coef\n",
            "0  0.1  157.360463  0.326266\n",
            "1  0.2  154.637903  1.687546\n",
            "2  0.3  153.198057  2.092532\n",
            "3  0.4  155.685145  2.052795\n",
            "4  0.5  156.846032  2.408262\n",
            "5  0.6  160.870028  2.342295\n",
            "6  0.7  160.702558  2.384167\n",
            "7  0.8  160.373250  2.559190\n",
            "8  0.9  159.783712  2.755703\n"
          ]
        }
      ]
    },
    {
      "cell_type": "code",
      "source": [
        "plt.figure(5) \n",
        "plt.scatter(x, y,  color='black') \n",
        "model2 = LinearRegression(fit_intercept = True, normalize = False) \n",
        "model2.fit(x, y)  \n",
        "y_pred2 = model2.predict(x) \n",
        "plt.plot(x, y_pred2, color='grey',linewidth=1, label='Lin Reg')  \n",
        "y_pred3 = models[0].params['Intercept'] + models[0].params['x'] * x \n",
        "plt.plot(x, y_pred3, color='tan',linewidth=1, label='Q Reg : 0.1')  \n",
        "y_pred4 = models[4].params['Intercept'] + models[4].params['x'] * x \n",
        "plt.plot(x, y_pred4, color='silver',linewidth=1, label='Q Reg : 0.5')   \n",
        "y_pred5 = models[8].params['Intercept'] + models[8].params['x'] * x \n",
        "plt.plot(x, y_pred5, color='black', linewidth=1, label='Q Reg : 0.9')   \n",
        "plt.xticks(()) \n",
        "plt.yticks(()) \n",
        "plt.xlabel(\"Tenure\") \n",
        "plt.ylabel(\"Predicted Cashback\") \n",
        "plt.title(\"Quantile regression on data with non-constant variance\") \n",
        "plt.legend()"
      ],
      "metadata": {
        "id": "YiSrV1zlMGCc",
        "colab": {
          "base_uri": "https://localhost:8080/",
          "height": 349
        },
        "outputId": "a9d960b4-18b5-4d84-9aed-ecd7ed832e3e"
      },
      "execution_count": 203,
      "outputs": [
        {
          "output_type": "stream",
          "name": "stderr",
          "text": [
            "/usr/local/lib/python3.7/dist-packages/sklearn/linear_model/_base.py:155: FutureWarning: 'normalize' was deprecated in version 1.0 and will be removed in 1.2. Please leave the normalize parameter to its default value to silence this warning. The default behavior of this estimator is to not do any normalization. If normalization is needed please use sklearn.preprocessing.StandardScaler instead.\n",
            "  FutureWarning,\n"
          ]
        },
        {
          "output_type": "execute_result",
          "data": {
            "text/plain": [
              "<matplotlib.legend.Legend at 0x7f83af816190>"
            ]
          },
          "metadata": {},
          "execution_count": 203
        },
        {
          "output_type": "display_data",
          "data": {
            "text/plain": [
              "<Figure size 432x288 with 1 Axes>"
            ],
            "image/png": "[encoded data removed]"
          },
          "metadata": {}
        }
      ]
    },
    {
      "cell_type": "code",
      "source": [
        "QuantileCashback=y_pred4"
      ],
      "metadata": {
        "id": "D-phlweyeIS4"
      },
      "execution_count": 186,
      "outputs": []
    },
    {
      "cell_type": "code",
      "source": [
        "QuantileCashback = QuantileCashback.rename(columns={'Tenure': 'QuantileCashback'})"
      ],
      "metadata": {
        "id": "crubRlLUfPZo"
      },
      "execution_count": 187,
      "outputs": []
    },
    {
      "cell_type": "code",
      "source": [
        "QuantileCashback"
      ],
      "metadata": {
        "id": "OyeiMGMOfdyk"
      },
      "execution_count": null,
      "outputs": []
    },
    {
      "cell_type": "code",
      "source": [
        "# 7. Lasso regression"
      ],
      "metadata": {
        "id": "DfTZGwBIIoXC"
      },
      "execution_count": null,
      "outputs": []
    },
    {
      "cell_type": "code",
      "source": [
        "from sklearn.linear_model import Lasso\n",
        "# define x and y\n",
        "Lassodf = pd.DataFrame(Linear2, columns=[\"CashbackAmount\"])\n",
        "y = Lassodf[['CashbackAmount']]\n",
        "x = Lassodf.groupby(['Tenure']).mean().reset_index()\n",
        "y = y.reset_index()\n",
        "x = x.drop(['CashbackAmount'], axis=1, errors='ignore')\n",
        "y = y.drop(['Tenure'], axis=1, errors='ignore')\n",
        "\n",
        "# define model\n",
        "model = Lasso(alpha=1.0)\n",
        "# fit model\n",
        "model.fit(x, y)\n",
        "# make a prediction\n",
        "LassoCashback = model.predict(x)\n",
        "# summarize prediction\n",
        "print(LassoCashback)"
      ],
      "metadata": {
        "id": "iM-g32DBMEiM",
        "colab": {
          "base_uri": "https://localhost:8080/"
        },
        "outputId": "aeb81234-283c-4a23-e9f6-07b48f19c13e"
      },
      "execution_count": null,
      "outputs": [
        {
          "output_type": "stream",
          "name": "stdout",
          "text": [
            "[166.95020437 168.50146336 170.05272235 171.60398135 173.15524034\n",
            " 174.70649933 176.25775832 177.80901732 179.36027631 180.9115353\n",
            " 182.4627943  184.01405329 185.56531228 187.11657127 188.66783027\n",
            " 190.21908926 191.77034825 193.32160724 194.87286624 196.42412523\n",
            " 197.97538422 199.52664321 201.07790221 202.6291612  204.18042019\n",
            " 205.73167918 207.28293818 208.83419717 210.38545616 211.93671515\n",
            " 213.48797415 215.03923314 244.513154   246.06441299 260.02574392\n",
            " 261.57700292]\n"
          ]
        }
      ]
    },
    {
      "cell_type": "code",
      "source": [
        "# Format for final data frame\n",
        "LassoCashback = pd.DataFrame(LassoCashback, columns=[\"LassoCashback\"])"
      ],
      "metadata": {
        "id": "NqgeXMiJ2IcZ"
      },
      "execution_count": null,
      "outputs": []
    },
    {
      "cell_type": "code",
      "source": [
        "# 8. Ridge regression"
      ],
      "metadata": {
        "id": "f9b2wq6JJROq"
      },
      "execution_count": null,
      "outputs": []
    },
    {
      "cell_type": "code",
      "source": [
        "# define x and y\n",
        "Ridgedf = pd.DataFrame(Linear2, columns=[\"CashbackAmount\"])\n",
        "y = Ridgedf[['CashbackAmount']]\n",
        "x =Ridgedf.groupby(['Tenure']).mean().reset_index()\n",
        "y = y.reset_index()\n",
        "x = x.drop(['CashbackAmount'], axis=1, errors='ignore')\n",
        "y = y.drop(['Tenure'], axis=1, errors='ignore')\n",
        "\n",
        "from sklearn.linear_model import Ridge\n",
        "ridge = Ridge().fit(x, y)\n",
        "plt.scatter(x,y,color=\"black\",label=\"Original\")\n",
        "plt.plot(x, ridge.predict(x), label=\"Ridge regression\",color=\"tan\")\n",
        "plt.legend()\n",
        "plt.xlabel(\"Tenure\")\n",
        "plt.ylabel(\"Predicted Cashback\")\n",
        "_ = plt.title(\"Linear model ridge\")"
      ],
      "metadata": {
        "id": "jJ54OllrMEFq",
        "colab": {
          "base_uri": "https://localhost:8080/",
          "height": 295
        },
        "outputId": "728b5def-3baf-401f-9ee4-54ea5620a2c8"
      },
      "execution_count": null,
      "outputs": [
        {
          "output_type": "display_data",
          "data": {
            "text/plain": [
              "<Figure size 432x288 with 1 Axes>"
            ],
            "image/png": "[encoded data removed]"
          },
          "metadata": {
            "needs_background": "light"
          }
        }
      ]
    },
    {
      "cell_type": "code",
      "source": [
        "RidgeCashback=ridge.predict(x)"
      ],
      "metadata": {
        "id": "JONAzTFbKumm"
      },
      "execution_count": null,
      "outputs": []
    },
    {
      "cell_type": "code",
      "source": [
        "RidgeCashback = pd.DataFrame(RidgeCashback, columns=[\"RidgeCashback\"])"
      ],
      "metadata": {
        "id": "Ye0tOKBFLJ8B"
      },
      "execution_count": null,
      "outputs": []
    },
    {
      "cell_type": "code",
      "source": [
        "RidgeCashback"
      ],
      "metadata": {
        "id": "eQ4XmuxvK6_q"
      },
      "execution_count": null,
      "outputs": []
    },
    {
      "cell_type": "code",
      "source": [
        "# 9. Bayesian regression"
      ],
      "metadata": {
        "id": "fbPQwB3TJZN1"
      },
      "execution_count": null,
      "outputs": []
    },
    {
      "cell_type": "code",
      "source": [
        "from sklearn.metrics import r2_score\n",
        "from sklearn.linear_model import BayesianRidge"
      ],
      "metadata": {
        "id": "8ETf-r2WL_wG"
      },
      "execution_count": null,
      "outputs": []
    },
    {
      "cell_type": "code",
      "source": [
        "# Creating and training model\n",
        "model = BayesianRidge()\n",
        "model.fit(x, y)"
      ],
      "metadata": {
        "id": "Ye0WNoAu_ul2",
        "colab": {
          "base_uri": "https://localhost:8080/"
        },
        "outputId": "3dde2af5-881d-4336-d48e-bce32f6d4ec7"
      },
      "execution_count": null,
      "outputs": [
        {
          "output_type": "stream",
          "name": "stderr",
          "text": [
            "/usr/local/lib/python3.7/dist-packages/sklearn/utils/validation.py:993: DataConversionWarning: A column-vector y was passed when a 1d array was expected. Please change the shape of y to (n_samples, ), for example using ravel().\n",
            "  y = column_or_1d(y, warn=True)\n"
          ]
        },
        {
          "output_type": "execute_result",
          "data": {
            "text/plain": [
              "BayesianRidge()"
            ]
          },
          "metadata": {},
          "execution_count": 97
        }
      ]
    },
    {
      "cell_type": "code",
      "source": [
        "# Model making a prediction on test data\n",
        "y_prediction = model.predict(x)"
      ],
      "metadata": {
        "id": "5Ki8iswcp3b6"
      },
      "execution_count": null,
      "outputs": []
    },
    {
      "cell_type": "code",
      "source": [
        "# Evaluation of r2 (Bayesian Ridge Regressor) score of the model against the test set\n",
        "print(f\"r2 Score Of Test Set : {r2_score(y, y_prediction)}\")"
      ],
      "metadata": {
        "colab": {
          "base_uri": "https://localhost:8080/"
        },
        "id": "6wseuiZQp3hH",
        "outputId": "63f70d52-e95c-45cd-9428-baea3a85079a"
      },
      "execution_count": null,
      "outputs": [
        {
          "output_type": "stream",
          "name": "stdout",
          "text": [
            "r2 Score Of Test Set : 0.4666199339828567\n"
          ]
        }
      ]
    },
    {
      "cell_type": "code",
      "source": [
        "y_prediction"
      ],
      "metadata": {
        "id": "Lcx3rMdc_uwC",
        "colab": {
          "base_uri": "https://localhost:8080/"
        },
        "outputId": "cef9bd37-54ee-4af6-b856-87c26147b355"
      },
      "execution_count": null,
      "outputs": [
        {
          "output_type": "execute_result",
          "data": {
            "text/plain": [
              "array([167.87709426, 169.38187967, 170.88666507, 172.39145048,\n",
              "       173.89623588, 175.40102128, 176.90580669, 178.41059209,\n",
              "       179.9153775 , 181.4201629 , 182.92494831, 184.42973371,\n",
              "       185.93451912, 187.43930452, 188.94408993, 190.44887533,\n",
              "       191.95366074, 193.45844614, 194.96323155, 196.46801695,\n",
              "       197.97280235, 199.47758776, 200.98237316, 202.48715857,\n",
              "       203.99194397, 205.49672938, 207.00151478, 208.50630019,\n",
              "       210.01108559, 211.515871  , 213.0206564 , 214.52544181,\n",
              "       243.1163645 , 244.6211499 , 258.16421854, 259.66900395])"
            ]
          },
          "metadata": {},
          "execution_count": 102
        }
      ]
    },
    {
      "cell_type": "code",
      "source": [
        "BayesCashback = pd.DataFrame(y_prediction, columns=[\"BayesCashback\"])"
      ],
      "metadata": {
        "id": "rlS4e-yUtgXA"
      },
      "execution_count": null,
      "outputs": []
    },
    {
      "cell_type": "code",
      "source": [
        "BayesCashback"
      ],
      "metadata": {
        "id": "YNeFy7FQtgjp"
      },
      "execution_count": null,
      "outputs": []
    },
    {
      "cell_type": "code",
      "source": [
        "# FINAL DATA FRAME"
      ],
      "metadata": {
        "id": "6HMOe1SUL5su"
      },
      "execution_count": null,
      "outputs": []
    },
    {
      "cell_type": "code",
      "source": [
        "# create data frame which will contain all cashback trendlines\n",
        "comparison=pd.concat([Linear3, Multiple3['Predicted_cashback'],poly1,exp,RidgeCashback, BayesCashback, LassoCashback, QuantileCashback], axis=1, join=\"inner\")"
      ],
      "metadata": {
        "id": "9dgA6gM9wJXG"
      },
      "execution_count": 189,
      "outputs": []
    },
    {
      "cell_type": "code",
      "source": [
        "# prepare column names\n",
        "symbols = ['OriginalCashback', 'LinearCashback', 'MultipleCashback','PolynomialCashback','ExpCashback','RidgeCashback','BayesCashback','LassoCashback' ,'QuantileCashback' ]\n",
        "\n",
        "comparison.columns = symbols"
      ],
      "metadata": {
        "id": "ieyHAcpazlLs"
      },
      "execution_count": 190,
      "outputs": []
    },
    {
      "cell_type": "code",
      "source": [
        "# Print data frame and see the grouped Cashback by Tenure \n",
        "# Cashback trendlines are: original values, linear regression, multiple regression, polynomial regression, Cashback logarithmus, \n",
        "# Polynomial regression is providing from this choice the best trendline \n",
        "comparison"
      ],
      "metadata": {
        "colab": {
          "base_uri": "https://localhost:8080/",
          "height": 1000
        },
        "id": "J4KIzRFewKwg",
        "outputId": "d6070186-a824-412e-dbfb-091df5a0ab4d"
      },
      "execution_count": 191,
      "outputs": [
        {
          "output_type": "execute_result",
          "data": {
            "text/plain": [
              "      OriginalCashback  LinearCashback  MultipleCashback  PolynomialCashback  \\\n",
              "0.0         142.442579      148.866845        146.338823          159.715749   \n",
              "1.0         150.023637      151.772499        153.370201          157.364188   \n",
              "2.0         158.012994      154.678152        153.956857          156.247814   \n",
              "3.0         168.050821      157.583806        157.985076          156.226401   \n",
              "4.0         170.239212      160.489459        160.594955          157.165612   \n",
              "5.0         171.282500      163.395113        163.884102          158.936996   \n",
              "6.0         168.001913      166.300766        166.241630          161.417993   \n",
              "7.0         165.265249      169.206420        167.982800          164.491931   \n",
              "8.0         168.699620      172.112073        172.249206          168.048027   \n",
              "9.0         171.155061      175.017727        175.337370          171.981385   \n",
              "10.0        174.123380      177.923380        178.564194          176.192999   \n",
              "11.0        170.799948      180.829034        179.997050          180.589752   \n",
              "12.0        184.030989      183.734687        183.780366          185.084415   \n",
              "13.0        191.484862      186.640341        185.690285          189.595645   \n",
              "14.0        197.089091      189.545995        190.064413          194.047993   \n",
              "15.0        194.507296      192.451648        191.508278          198.371894   \n",
              "16.0        201.805168      195.357302        195.932269          202.503673   \n",
              "17.0        201.233396      198.262955        198.498441          206.385545   \n",
              "18.0        192.635447      201.168609        200.083869          209.965611   \n",
              "19.0        207.315500      204.074262        204.650050          213.197862   \n",
              "20.0        214.962752      206.979916        207.412165          216.042179   \n",
              "21.0        209.488810      209.885569        211.424249          218.464329   \n",
              "22.0        213.122368      212.791223        212.245796          220.435968   \n",
              "23.0        234.026067      215.696876        215.329415          221.934643   \n",
              "24.0        242.226667      218.602530        219.412493          222.943787   \n",
              "25.0        216.445254      221.508183        220.397519          223.452723   \n",
              "26.0        224.909167      224.413837        222.863975          223.456661   \n",
              "27.0        221.869091      227.319490        225.882936          222.956701   \n",
              "28.0        232.030571      230.225144        229.368229          221.959831   \n",
              "29.0        239.699091      233.130797        234.218397          220.478929   \n",
              "30.0        205.264242      236.036451        234.814704          218.532760   \n",
              "31.0        216.268571      238.942104        242.751626          216.145977   \n",
              "\n",
              "      ExpCashback  RidgeCashback  BayesCashback  LassoCashback  \\\n",
              "0.0    168.868448     166.869553     167.877094     166.950204   \n",
              "1.0    169.620238     168.424856     169.381880     168.501463   \n",
              "2.0    170.375375     169.980158     170.886665     170.052722   \n",
              "3.0    171.133873     171.535461     172.391450     171.603981   \n",
              "4.0    171.895748     173.090764     173.896236     173.155240   \n",
              "5.0    172.661016     174.646067     175.401021     174.706499   \n",
              "6.0    173.429690     176.201370     176.905807     176.257758   \n",
              "7.0    174.201786     177.756672     178.410592     177.809017   \n",
              "8.0    174.977319     179.311975     179.915377     179.360276   \n",
              "9.0    175.756305     180.867278     181.420163     180.911535   \n",
              "10.0   176.538759     182.422581     182.924948     182.462794   \n",
              "11.0   177.324697     183.977884     184.429734     184.014053   \n",
              "12.0   178.114133     185.533186     185.934519     185.565312   \n",
              "13.0   178.907084     187.088489     187.439305     187.116571   \n",
              "14.0   179.703565     188.643792     188.944090     188.667830   \n",
              "15.0   180.503592     190.199095     190.448875     190.219089   \n",
              "16.0   181.307180     191.754398     191.953661     191.770348   \n",
              "17.0   182.114346     193.309700     193.458446     193.321607   \n",
              "18.0   182.925106     194.865003     194.963232     194.872866   \n",
              "19.0   183.739475     196.420306     196.468017     196.424125   \n",
              "20.0   184.557469     197.975609     197.972802     197.975384   \n",
              "21.0   185.379106     199.530912     199.477588     199.526643   \n",
              "22.0   186.204400     201.086214     200.982373     201.077902   \n",
              "23.0   187.033368     202.641517     202.487159     202.629161   \n",
              "24.0   187.866026     204.196820     203.991944     204.180420   \n",
              "25.0   188.702392     205.752123     205.496729     205.731679   \n",
              "26.0   189.542481     207.307426     207.001515     207.282938   \n",
              "27.0   190.386310     208.862728     208.506300     208.834197   \n",
              "28.0   191.233896     210.418031     210.011086     210.385456   \n",
              "29.0   192.085255     211.973334     211.515871     211.936715   \n",
              "30.0   192.940404     213.528637     213.020656     213.487974   \n",
              "31.0   193.799360     215.083940     214.525442     215.039233   \n",
              "\n",
              "      QuantileCashback  \n",
              "0.0         156.846032  \n",
              "1.0         159.254294  \n",
              "2.0         161.662556  \n",
              "3.0         164.070818  \n",
              "4.0         166.479079  \n",
              "5.0         168.887341  \n",
              "6.0         171.295603  \n",
              "7.0         173.703865  \n",
              "8.0         176.112126  \n",
              "9.0         178.520388  \n",
              "10.0        180.928650  \n",
              "11.0        183.336912  \n",
              "12.0        185.745173  \n",
              "13.0        188.153435  \n",
              "14.0        190.561697  \n",
              "15.0        192.969959  \n",
              "16.0        195.378220  \n",
              "17.0        197.786482  \n",
              "18.0        200.194744  \n",
              "19.0        202.603006  \n",
              "20.0        205.011267  \n",
              "21.0        207.419529  \n",
              "22.0        209.827791  \n",
              "23.0        212.236053  \n",
              "24.0        214.644314  \n",
              "25.0        217.052576  \n",
              "26.0        219.460838  \n",
              "27.0        221.869100  \n",
              "28.0        224.277361  \n",
              "29.0        226.685623  \n",
              "30.0        229.093885  \n",
              "31.0        231.502147  "
            ],
            "text/html": [
              "\n",
              "  <div id=\"df-1a5d864c-d084-4c49-aa09-c7a45ffe1b1d\">\n",
              "    <div class=\"colab-df-container\">\n",
              "      <div>\n",
              "<style scoped>\n",
              "    .dataframe tbody tr th:only-of-type {\n",
              "        vertical-align: middle;\n",
              "    }\n",
              "\n",
              "    .dataframe tbody tr th {\n",
              "        vertical-align: top;\n",
              "    }\n",
              "\n",
              "    .dataframe thead th {\n",
              "        text-align: right;\n",
              "    }\n",
              "</style>\n",
              "<table border=\"1\" class=\"dataframe\">\n",
              "  <thead>\n",
              "    <tr style=\"text-align: right;\">\n",
              "      <th></th>\n",
              "      <th>OriginalCashback</th>\n",
              "      <th>LinearCashback</th>\n",
              "      <th>MultipleCashback</th>\n",
              "      <th>PolynomialCashback</th>\n",
              "      <th>ExpCashback</th>\n",
              "      <th>RidgeCashback</th>\n",
              "      <th>BayesCashback</th>\n",
              "      <th>LassoCashback</th>\n",
              "      <th>QuantileCashback</th>\n",
              "    </tr>\n",
              "  </thead>\n",
              "  <tbody>\n",
              "    <tr>\n",
              "      <th>0.0</th>\n",
              "      <td>142.442579</td>\n",
              "      <td>148.866845</td>\n",
              "      <td>146.338823</td>\n",
              "      <td>159.715749</td>\n",
              "      <td>168.868448</td>\n",
              "      <td>166.869553</td>\n",
              "      <td>167.877094</td>\n",
              "      <td>166.950204</td>\n",
              "      <td>156.846032</td>\n",
              "    </tr>\n",
              "    <tr>\n",
              "      <th>1.0</th>\n",
              "      <td>150.023637</td>\n",
              "      <td>151.772499</td>\n",
              "      <td>153.370201</td>\n",
              "      <td>157.364188</td>\n",
              "      <td>169.620238</td>\n",
              "      <td>168.424856</td>\n",
              "      <td>169.381880</td>\n",
              "      <td>168.501463</td>\n",
              "      <td>159.254294</td>\n",
              "    </tr>\n",
              "    <tr>\n",
              "      <th>2.0</th>\n",
              "      <td>158.012994</td>\n",
              "      <td>154.678152</td>\n",
              "      <td>153.956857</td>\n",
              "      <td>156.247814</td>\n",
              "      <td>170.375375</td>\n",
              "      <td>169.980158</td>\n",
              "      <td>170.886665</td>\n",
              "      <td>170.052722</td>\n",
              "      <td>161.662556</td>\n",
              "    </tr>\n",
              "    <tr>\n",
              "      <th>3.0</th>\n",
              "      <td>168.050821</td>\n",
              "      <td>157.583806</td>\n",
              "      <td>157.985076</td>\n",
              "      <td>156.226401</td>\n",
              "      <td>171.133873</td>\n",
              "      <td>171.535461</td>\n",
              "      <td>172.391450</td>\n",
              "      <td>171.603981</td>\n",
              "      <td>164.070818</td>\n",
              "    </tr>\n",
              "    <tr>\n",
              "      <th>4.0</th>\n",
              "      <td>170.239212</td>\n",
              "      <td>160.489459</td>\n",
              "      <td>160.594955</td>\n",
              "      <td>157.165612</td>\n",
              "      <td>171.895748</td>\n",
              "      <td>173.090764</td>\n",
              "      <td>173.896236</td>\n",
              "      <td>173.155240</td>\n",
              "      <td>166.479079</td>\n",
              "    </tr>\n",
              "    <tr>\n",
              "      <th>5.0</th>\n",
              "      <td>171.282500</td>\n",
              "      <td>163.395113</td>\n",
              "      <td>163.884102</td>\n",
              "      <td>158.936996</td>\n",
              "      <td>172.661016</td>\n",
              "      <td>174.646067</td>\n",
              "      <td>175.401021</td>\n",
              "      <td>174.706499</td>\n",
              "      <td>168.887341</td>\n",
              "    </tr>\n",
              "    <tr>\n",
              "      <th>6.0</th>\n",
              "      <td>168.001913</td>\n",
              "      <td>166.300766</td>\n",
              "      <td>166.241630</td>\n",
              "      <td>161.417993</td>\n",
              "      <td>173.429690</td>\n",
              "      <td>176.201370</td>\n",
              "      <td>176.905807</td>\n",
              "      <td>176.257758</td>\n",
              "      <td>171.295603</td>\n",
              "    </tr>\n",
              "    <tr>\n",
              "      <th>7.0</th>\n",
              "      <td>165.265249</td>\n",
              "      <td>169.206420</td>\n",
              "      <td>167.982800</td>\n",
              "      <td>164.491931</td>\n",
              "      <td>174.201786</td>\n",
              "      <td>177.756672</td>\n",
              "      <td>178.410592</td>\n",
              "      <td>177.809017</td>\n",
              "      <td>173.703865</td>\n",
              "    </tr>\n",
              "    <tr>\n",
              "      <th>8.0</th>\n",
              "      <td>168.699620</td>\n",
              "      <td>172.112073</td>\n",
              "      <td>172.249206</td>\n",
              "      <td>168.048027</td>\n",
              "      <td>174.977319</td>\n",
              "      <td>179.311975</td>\n",
              "      <td>179.915377</td>\n",
              "      <td>179.360276</td>\n",
              "      <td>176.112126</td>\n",
              "    </tr>\n",
              "    <tr>\n",
              "      <th>9.0</th>\n",
              "      <td>171.155061</td>\n",
              "      <td>175.017727</td>\n",
              "      <td>175.337370</td>\n",
              "      <td>171.981385</td>\n",
              "      <td>175.756305</td>\n",
              "      <td>180.867278</td>\n",
              "      <td>181.420163</td>\n",
              "      <td>180.911535</td>\n",
              "      <td>178.520388</td>\n",
              "    </tr>\n",
              "    <tr>\n",
              "      <th>10.0</th>\n",
              "      <td>174.123380</td>\n",
              "      <td>177.923380</td>\n",
              "      <td>178.564194</td>\n",
              "      <td>176.192999</td>\n",
              "      <td>176.538759</td>\n",
              "      <td>182.422581</td>\n",
              "      <td>182.924948</td>\n",
              "      <td>182.462794</td>\n",
              "      <td>180.928650</td>\n",
              "    </tr>\n",
              "    <tr>\n",
              "      <th>11.0</th>\n",
              "      <td>170.799948</td>\n",
              "      <td>180.829034</td>\n",
              "      <td>179.997050</td>\n",
              "      <td>180.589752</td>\n",
              "      <td>177.324697</td>\n",
              "      <td>183.977884</td>\n",
              "      <td>184.429734</td>\n",
              "      <td>184.014053</td>\n",
              "      <td>183.336912</td>\n",
              "    </tr>\n",
              "    <tr>\n",
              "      <th>12.0</th>\n",
              "      <td>184.030989</td>\n",
              "      <td>183.734687</td>\n",
              "      <td>183.780366</td>\n",
              "      <td>185.084415</td>\n",
              "      <td>178.114133</td>\n",
              "      <td>185.533186</td>\n",
              "      <td>185.934519</td>\n",
              "      <td>185.565312</td>\n",
              "      <td>185.745173</td>\n",
              "    </tr>\n",
              "    <tr>\n",
              "      <th>13.0</th>\n",
              "      <td>191.484862</td>\n",
              "      <td>186.640341</td>\n",
              "      <td>185.690285</td>\n",
              "      <td>189.595645</td>\n",
              "      <td>178.907084</td>\n",
              "      <td>187.088489</td>\n",
              "      <td>187.439305</td>\n",
              "      <td>187.116571</td>\n",
              "      <td>188.153435</td>\n",
              "    </tr>\n",
              "    <tr>\n",
              "      <th>14.0</th>\n",
              "      <td>197.089091</td>\n",
              "      <td>189.545995</td>\n",
              "      <td>190.064413</td>\n",
              "      <td>194.047993</td>\n",
              "      <td>179.703565</td>\n",
              "      <td>188.643792</td>\n",
              "      <td>188.944090</td>\n",
              "      <td>188.667830</td>\n",
              "      <td>190.561697</td>\n",
              "    </tr>\n",
              "    <tr>\n",
              "      <th>15.0</th>\n",
              "      <td>194.507296</td>\n",
              "      <td>192.451648</td>\n",
              "      <td>191.508278</td>\n",
              "      <td>198.371894</td>\n",
              "      <td>180.503592</td>\n",
              "      <td>190.199095</td>\n",
              "      <td>190.448875</td>\n",
              "      <td>190.219089</td>\n",
              "      <td>192.969959</td>\n",
              "    </tr>\n",
              "    <tr>\n",
              "      <th>16.0</th>\n",
              "      <td>201.805168</td>\n",
              "      <td>195.357302</td>\n",
              "      <td>195.932269</td>\n",
              "      <td>202.503673</td>\n",
              "      <td>181.307180</td>\n",
              "      <td>191.754398</td>\n",
              "      <td>191.953661</td>\n",
              "      <td>191.770348</td>\n",
              "      <td>195.378220</td>\n",
              "    </tr>\n",
              "    <tr>\n",
              "      <th>17.0</th>\n",
              "      <td>201.233396</td>\n",
              "      <td>198.262955</td>\n",
              "      <td>198.498441</td>\n",
              "      <td>206.385545</td>\n",
              "      <td>182.114346</td>\n",
              "      <td>193.309700</td>\n",
              "      <td>193.458446</td>\n",
              "      <td>193.321607</td>\n",
              "      <td>197.786482</td>\n",
              "    </tr>\n",
              "    <tr>\n",
              "      <th>18.0</th>\n",
              "      <td>192.635447</td>\n",
              "      <td>201.168609</td>\n",
              "      <td>200.083869</td>\n",
              "      <td>209.965611</td>\n",
              "      <td>182.925106</td>\n",
              "      <td>194.865003</td>\n",
              "      <td>194.963232</td>\n",
              "      <td>194.872866</td>\n",
              "      <td>200.194744</td>\n",
              "    </tr>\n",
              "    <tr>\n",
              "      <th>19.0</th>\n",
              "      <td>207.315500</td>\n",
              "      <td>204.074262</td>\n",
              "      <td>204.650050</td>\n",
              "      <td>213.197862</td>\n",
              "      <td>183.739475</td>\n",
              "      <td>196.420306</td>\n",
              "      <td>196.468017</td>\n",
              "      <td>196.424125</td>\n",
              "      <td>202.603006</td>\n",
              "    </tr>\n",
              "    <tr>\n",
              "      <th>20.0</th>\n",
              "      <td>214.962752</td>\n",
              "      <td>206.979916</td>\n",
              "      <td>207.412165</td>\n",
              "      <td>216.042179</td>\n",
              "      <td>184.557469</td>\n",
              "      <td>197.975609</td>\n",
              "      <td>197.972802</td>\n",
              "      <td>197.975384</td>\n",
              "      <td>205.011267</td>\n",
              "    </tr>\n",
              "    <tr>\n",
              "      <th>21.0</th>\n",
              "      <td>209.488810</td>\n",
              "      <td>209.885569</td>\n",
              "      <td>211.424249</td>\n",
              "      <td>218.464329</td>\n",
              "      <td>185.379106</td>\n",
              "      <td>199.530912</td>\n",
              "      <td>199.477588</td>\n",
              "      <td>199.526643</td>\n",
              "      <td>207.419529</td>\n",
              "    </tr>\n",
              "    <tr>\n",
              "      <th>22.0</th>\n",
              "      <td>213.122368</td>\n",
              "      <td>212.791223</td>\n",
              "      <td>212.245796</td>\n",
              "      <td>220.435968</td>\n",
              "      <td>186.204400</td>\n",
              "      <td>201.086214</td>\n",
              "      <td>200.982373</td>\n",
              "      <td>201.077902</td>\n",
              "      <td>209.827791</td>\n",
              "    </tr>\n",
              "    <tr>\n",
              "      <th>23.0</th>\n",
              "      <td>234.026067</td>\n",
              "      <td>215.696876</td>\n",
              "      <td>215.329415</td>\n",
              "      <td>221.934643</td>\n",
              "      <td>187.033368</td>\n",
              "      <td>202.641517</td>\n",
              "      <td>202.487159</td>\n",
              "      <td>202.629161</td>\n",
              "      <td>212.236053</td>\n",
              "    </tr>\n",
              "    <tr>\n",
              "      <th>24.0</th>\n",
              "      <td>242.226667</td>\n",
              "      <td>218.602530</td>\n",
              "      <td>219.412493</td>\n",
              "      <td>222.943787</td>\n",
              "      <td>187.866026</td>\n",
              "      <td>204.196820</td>\n",
              "      <td>203.991944</td>\n",
              "      <td>204.180420</td>\n",
              "      <td>214.644314</td>\n",
              "    </tr>\n",
              "    <tr>\n",
              "      <th>25.0</th>\n",
              "      <td>216.445254</td>\n",
              "      <td>221.508183</td>\n",
              "      <td>220.397519</td>\n",
              "      <td>223.452723</td>\n",
              "      <td>188.702392</td>\n",
              "      <td>205.752123</td>\n",
              "      <td>205.496729</td>\n",
              "      <td>205.731679</td>\n",
              "      <td>217.052576</td>\n",
              "    </tr>\n",
              "    <tr>\n",
              "      <th>26.0</th>\n",
              "      <td>224.909167</td>\n",
              "      <td>224.413837</td>\n",
              "      <td>222.863975</td>\n",
              "      <td>223.456661</td>\n",
              "      <td>189.542481</td>\n",
              "      <td>207.307426</td>\n",
              "      <td>207.001515</td>\n",
              "      <td>207.282938</td>\n",
              "      <td>219.460838</td>\n",
              "    </tr>\n",
              "    <tr>\n",
              "      <th>27.0</th>\n",
              "      <td>221.869091</td>\n",
              "      <td>227.319490</td>\n",
              "      <td>225.882936</td>\n",
              "      <td>222.956701</td>\n",
              "      <td>190.386310</td>\n",
              "      <td>208.862728</td>\n",
              "      <td>208.506300</td>\n",
              "      <td>208.834197</td>\n",
              "      <td>221.869100</td>\n",
              "    </tr>\n",
              "    <tr>\n",
              "      <th>28.0</th>\n",
              "      <td>232.030571</td>\n",
              "      <td>230.225144</td>\n",
              "      <td>229.368229</td>\n",
              "      <td>221.959831</td>\n",
              "      <td>191.233896</td>\n",
              "      <td>210.418031</td>\n",
              "      <td>210.011086</td>\n",
              "      <td>210.385456</td>\n",
              "      <td>224.277361</td>\n",
              "    </tr>\n",
              "    <tr>\n",
              "      <th>29.0</th>\n",
              "      <td>239.699091</td>\n",
              "      <td>233.130797</td>\n",
              "      <td>234.218397</td>\n",
              "      <td>220.478929</td>\n",
              "      <td>192.085255</td>\n",
              "      <td>211.973334</td>\n",
              "      <td>211.515871</td>\n",
              "      <td>211.936715</td>\n",
              "      <td>226.685623</td>\n",
              "    </tr>\n",
              "    <tr>\n",
              "      <th>30.0</th>\n",
              "      <td>205.264242</td>\n",
              "      <td>236.036451</td>\n",
              "      <td>234.814704</td>\n",
              "      <td>218.532760</td>\n",
              "      <td>192.940404</td>\n",
              "      <td>213.528637</td>\n",
              "      <td>213.020656</td>\n",
              "      <td>213.487974</td>\n",
              "      <td>229.093885</td>\n",
              "    </tr>\n",
              "    <tr>\n",
              "      <th>31.0</th>\n",
              "      <td>216.268571</td>\n",
              "      <td>238.942104</td>\n",
              "      <td>242.751626</td>\n",
              "      <td>216.145977</td>\n",
              "      <td>193.799360</td>\n",
              "      <td>215.083940</td>\n",
              "      <td>214.525442</td>\n",
              "      <td>215.039233</td>\n",
              "      <td>231.502147</td>\n",
              "    </tr>\n",
              "  </tbody>\n",
              "</table>\n",
              "</div>\n",
              "      <button class=\"colab-df-convert\" onclick=\"convertToInteractive('df-1a5d864c-d084-4c49-aa09-c7a45ffe1b1d')\"\n",
              "              title=\"Convert this dataframe to an interactive table.\"\n",
              "              style=\"display:none;\">\n",
              "        \n",
              "  <svg xmlns=\"http://www.w3.org/2000/svg\" height=\"24px\"viewBox=\"0 0 24 24\"\n",
              "       width=\"24px\">\n",
              "    <path d=\"M0 0h24v24H0V0z\" fill=\"none\"/>\n",
              "    <path d=\"M18.56 5.44l.94 2.06.94-2.06 2.06-.94-2.06-.94-.94-2.06-.94 2.06-2.06.94zm-11 1L8.5 8.5l.94-2.06 2.06-.94-2.06-.94L8.5 2.5l-.94 2.06-2.06.94zm10 10l.94 2.06.94-2.06 2.06-.94-2.06-.94-.94-2.06-.94 2.06-2.06.94z\"/><path d=\"M17.41 7.96l-1.37-1.37c-.4-.4-.92-.59-1.43-.59-.52 0-1.04.2-1.43.59L10.3 9.45l-7.72 7.72c-.78.78-.78 2.05 0 2.83L4 21.41c.39.39.9.59 1.41.59.51 0 1.02-.2 1.41-.59l7.78-7.78 2.81-2.81c.8-.78.8-2.07 0-2.86zM5.41 20L4 18.59l7.72-7.72 1.47 1.35L5.41 20z\"/>\n",
              "  </svg>\n",
              "      </button>\n",
              "      \n",
              "  <style>\n",
              "    .colab-df-container {\n",
              "      display:flex;\n",
              "      flex-wrap:wrap;\n",
              "      gap: 12px;\n",
              "    }\n",
              "\n",
              "    .colab-df-convert {\n",
              "      background-color: #E8F0FE;\n",
              "      border: none;\n",
              "      border-radius: 50%;\n",
              "      cursor: pointer;\n",
              "      display: none;\n",
              "      fill: #1967D2;\n",
              "      height: 32px;\n",
              "      padding: 0 0 0 0;\n",
              "      width: 32px;\n",
              "    }\n",
              "\n",
              "    .colab-df-convert:hover {\n",
              "      background-color: #E2EBFA;\n",
              "      box-shadow: 0px 1px 2px rgba(60, 64, 67, 0.3), 0px 1px 3px 1px rgba(60, 64, 67, 0.15);\n",
              "      fill: #174EA6;\n",
              "    }\n",
              "\n",
              "    [theme=dark] .colab-df-convert {\n",
              "      background-color: #3B4455;\n",
              "      fill: #D2E3FC;\n",
              "    }\n",
              "\n",
              "    [theme=dark] .colab-df-convert:hover {\n",
              "      background-color: #434B5C;\n",
              "      box-shadow: 0px 1px 3px 1px rgba(0, 0, 0, 0.15);\n",
              "      filter: drop-shadow(0px 1px 2px rgba(0, 0, 0, 0.3));\n",
              "      fill: #FFFFFF;\n",
              "    }\n",
              "  </style>\n",
              "\n",
              "      <script>\n",
              "        const buttonEl =\n",
              "          document.querySelector('#df-1a5d864c-d084-4c49-aa09-c7a45ffe1b1d button.colab-df-convert');\n",
              "        buttonEl.style.display =\n",
              "          google.colab.kernel.accessAllowed ? 'block' : 'none';\n",
              "\n",
              "        async function convertToInteractive(key) {\n",
              "          const element = document.querySelector('#df-1a5d864c-d084-4c49-aa09-c7a45ffe1b1d');\n",
              "          const dataTable =\n",
              "            await google.colab.kernel.invokeFunction('convertToInteractive',\n",
              "                                                     [key], {});\n",
              "          if (!dataTable) return;\n",
              "\n",
              "          const docLinkHtml = 'Like what you see? Visit the ' +\n",
              "            '<a target=\"_blank\" href=https://colab.research.google.com/notebooks/data_table.ipynb>data table notebook</a>'\n",
              "            + ' to learn more about interactive tables.';\n",
              "          element.innerHTML = '';\n",
              "          dataTable['output_type'] = 'display_data';\n",
              "          await google.colab.output.renderOutput(dataTable, element);\n",
              "          const docLink = document.createElement('div');\n",
              "          docLink.innerHTML = docLinkHtml;\n",
              "          element.appendChild(docLink);\n",
              "        }\n",
              "      </script>\n",
              "    </div>\n",
              "  </div>\n",
              "  "
            ]
          },
          "metadata": {},
          "execution_count": 191
        }
      ]
    },
    {
      "cell_type": "code",
      "source": [
        "# The polynomial trendline is providing nice fit for the first 30 months /Tenures/\n",
        "comparison.plot(style={'OriginalCashback': '#7f7f7f', 'LinearCashback': '--k','MultipleCashback': ':k','PolynomialCashback': '-.k','ExpCashback': ':y','RidgeCashback': '--y','BayesCashback': '-y','LassoCashback': '-.y','QuantileCashback': '-k' }, figsize=(9, 5))"
      ],
      "metadata": {
        "colab": {
          "base_uri": "https://localhost:8080/",
          "height": 337
        },
        "id": "6mNO5DZ5wKzx",
        "outputId": "ba9829b6-0797-4032-c9a3-38f54eb21579"
      },
      "execution_count": 202,
      "outputs": [
        {
          "output_type": "execute_result",
          "data": {
            "text/plain": [
              "<matplotlib.axes._subplots.AxesSubplot at 0x7f83b1648310>"
            ]
          },
          "metadata": {},
          "execution_count": 202
        },
        {
          "output_type": "display_data",
          "data": {
            "text/plain": [
              "<Figure size 648x360 with 1 Axes>"
            ],
            "image/png": "[encoded data removed]"
          },
          "metadata": {
            "needs_background": "light"
          }
        }
      ]
    },
    {
      "cell_type": "code",
      "source": [],
      "metadata": {
        "id": "IRIbYtZwJZUj"
      },
      "execution_count": null,
      "outputs": []
    },
    {
      "cell_type": "code",
      "source": [],
      "metadata": {
        "id": "akXW23RAJRS9"
      },
      "execution_count": null,
      "outputs": []
    }
  ]
}